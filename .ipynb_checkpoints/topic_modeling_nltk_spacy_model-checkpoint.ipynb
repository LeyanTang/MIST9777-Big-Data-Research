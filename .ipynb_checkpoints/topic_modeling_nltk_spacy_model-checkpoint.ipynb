{
 "cells": [
  {
   "cell_type": "code",
   "execution_count": 3,
   "id": "2146eae5-1aec-48ff-b731-b525b7e154c7",
   "metadata": {},
   "outputs": [
    {
     "name": "stderr",
     "output_type": "stream",
     "text": [
      "[nltk_data] Downloading package stopwords to\n",
      "[nltk_data]     /Users/leyantang/nltk_data...\n",
      "[nltk_data]   Unzipping corpora/stopwords.zip.\n"
     ]
    },
    {
     "data": {
      "text/plain": [
       "True"
      ]
     },
     "execution_count": 3,
     "metadata": {},
     "output_type": "execute_result"
    }
   ],
   "source": [
    "# Run in python console\n",
    "import nltk; nltk.download('stopwords')"
   ]
  },
  {
   "cell_type": "code",
   "execution_count": 11,
   "id": "99410682-a113-4fd1-870e-e7c074d10ebb",
   "metadata": {},
   "outputs": [
    {
     "name": "stderr",
     "output_type": "stream",
     "text": [
      "/Applications/anaconda3/lib/python3.12/site-packages/IPython/core/pylabtools.py:77: DeprecationWarning: backends is deprecated since IPython 8.24, backends are managed in matplotlib and can be externally registered.\n",
      "  warnings.warn(\n",
      "/Applications/anaconda3/lib/python3.12/site-packages/IPython/core/pylabtools.py:77: DeprecationWarning: backend2gui is deprecated since IPython 8.24, backends are managed in matplotlib and can be externally registered.\n",
      "  warnings.warn(\n"
     ]
    }
   ],
   "source": [
    "import re\n",
    "import numpy as np\n",
    "import pandas as pd\n",
    "from pprint import pprint\n",
    "\n",
    "# Gensim\n",
    "import gensim\n",
    "import gensim.corpora as corpora\n",
    "from gensim.utils import simple_preprocess\n",
    "from gensim.models import CoherenceModel\n",
    "\n",
    "# spacy for lemmatization\n",
    "import spacy\n",
    "\n",
    "# Plotting tools\n",
    "import pyLDAvis\n",
    "import pyLDAvis.gensim  # don't skip this\n",
    "import matplotlib.pyplot as plt\n",
    "%matplotlib inline\n",
    "\n",
    "# Enable logging for gensim - optional\n",
    "import logging\n",
    "logging.basicConfig(format='%(asctime)s : %(levelname)s : %(message)s', level=logging.ERROR)\n",
    "\n",
    "import warnings\n",
    "warnings.filterwarnings(\"ignore\",category=DeprecationWarning)"
   ]
  },
  {
   "cell_type": "code",
   "execution_count": 13,
   "id": "4f80e128-c457-492c-ba6c-ee6c98151609",
   "metadata": {},
   "outputs": [],
   "source": [
    "# NLTK Stop words\n",
    "from nltk.corpus import stopwords\n",
    "stop_words = stopwords.words('english')\n",
    "stop_words.extend(['from', 'subject', 're', 'edu', 'use'])"
   ]
  },
  {
   "cell_type": "code",
   "execution_count": 15,
   "id": "d685cfbc-47cc-49dc-b31b-b50b0c202822",
   "metadata": {},
   "outputs": [
    {
     "name": "stdout",
     "output_type": "stream",
     "text": [
      "['rec.autos' 'comp.sys.mac.hardware' 'comp.graphics' 'sci.space'\n",
      " 'talk.politics.guns' 'sci.med' 'comp.sys.ibm.pc.hardware'\n",
      " 'comp.os.ms-windows.misc' 'rec.motorcycles' 'talk.religion.misc'\n",
      " 'misc.forsale' 'alt.atheism' 'sci.electronics' 'comp.windows.x'\n",
      " 'rec.sport.hockey' 'rec.sport.baseball' 'soc.religion.christian'\n",
      " 'talk.politics.mideast' 'talk.politics.misc' 'sci.crypt']\n"
     ]
    },
    {
     "data": {
      "text/html": [
       "<div>\n",
       "<style scoped>\n",
       "    .dataframe tbody tr th:only-of-type {\n",
       "        vertical-align: middle;\n",
       "    }\n",
       "\n",
       "    .dataframe tbody tr th {\n",
       "        vertical-align: top;\n",
       "    }\n",
       "\n",
       "    .dataframe thead th {\n",
       "        text-align: right;\n",
       "    }\n",
       "</style>\n",
       "<table border=\"1\" class=\"dataframe\">\n",
       "  <thead>\n",
       "    <tr style=\"text-align: right;\">\n",
       "      <th></th>\n",
       "      <th>content</th>\n",
       "      <th>target</th>\n",
       "      <th>target_names</th>\n",
       "    </tr>\n",
       "  </thead>\n",
       "  <tbody>\n",
       "    <tr>\n",
       "      <th>0</th>\n",
       "      <td>From: lerxst@wam.umd.edu (where's my thing)\\nS...</td>\n",
       "      <td>7</td>\n",
       "      <td>rec.autos</td>\n",
       "    </tr>\n",
       "    <tr>\n",
       "      <th>1</th>\n",
       "      <td>From: guykuo@carson.u.washington.edu (Guy Kuo)...</td>\n",
       "      <td>4</td>\n",
       "      <td>comp.sys.mac.hardware</td>\n",
       "    </tr>\n",
       "    <tr>\n",
       "      <th>2</th>\n",
       "      <td>From: twillis@ec.ecn.purdue.edu (Thomas E Will...</td>\n",
       "      <td>4</td>\n",
       "      <td>comp.sys.mac.hardware</td>\n",
       "    </tr>\n",
       "    <tr>\n",
       "      <th>3</th>\n",
       "      <td>From: jgreen@amber (Joe Green)\\nSubject: Re: W...</td>\n",
       "      <td>1</td>\n",
       "      <td>comp.graphics</td>\n",
       "    </tr>\n",
       "    <tr>\n",
       "      <th>4</th>\n",
       "      <td>From: jcm@head-cfa.harvard.edu (Jonathan McDow...</td>\n",
       "      <td>14</td>\n",
       "      <td>sci.space</td>\n",
       "    </tr>\n",
       "  </tbody>\n",
       "</table>\n",
       "</div>"
      ],
      "text/plain": [
       "                                             content  target  \\\n",
       "0  From: lerxst@wam.umd.edu (where's my thing)\\nS...       7   \n",
       "1  From: guykuo@carson.u.washington.edu (Guy Kuo)...       4   \n",
       "2  From: twillis@ec.ecn.purdue.edu (Thomas E Will...       4   \n",
       "3  From: jgreen@amber (Joe Green)\\nSubject: Re: W...       1   \n",
       "4  From: jcm@head-cfa.harvard.edu (Jonathan McDow...      14   \n",
       "\n",
       "            target_names  \n",
       "0              rec.autos  \n",
       "1  comp.sys.mac.hardware  \n",
       "2  comp.sys.mac.hardware  \n",
       "3          comp.graphics  \n",
       "4              sci.space  "
      ]
     },
     "execution_count": 15,
     "metadata": {},
     "output_type": "execute_result"
    }
   ],
   "source": [
    "# Import Dataset\n",
    "df = pd.read_json('https://raw.githubusercontent.com/selva86/datasets/master/newsgroups.json')\n",
    "print(df.target_names.unique())\n",
    "df.head()"
   ]
  },
  {
   "cell_type": "code",
   "execution_count": 17,
   "id": "5cb21800-6089-4316-9c7c-ff5dad43bbce",
   "metadata": {},
   "outputs": [
    {
     "name": "stderr",
     "output_type": "stream",
     "text": [
      "<>:5: SyntaxWarning: invalid escape sequence '\\S'\n",
      "<>:8: SyntaxWarning: invalid escape sequence '\\s'\n",
      "<>:5: SyntaxWarning: invalid escape sequence '\\S'\n",
      "<>:8: SyntaxWarning: invalid escape sequence '\\s'\n",
      "/var/folders/cg/y9cdly1x3410ssscs4qy2dx40000gn/T/ipykernel_26473/1560797528.py:5: SyntaxWarning: invalid escape sequence '\\S'\n",
      "  data = [re.sub('\\S*@\\S*\\s?', '', sent) for sent in data]\n",
      "/var/folders/cg/y9cdly1x3410ssscs4qy2dx40000gn/T/ipykernel_26473/1560797528.py:8: SyntaxWarning: invalid escape sequence '\\s'\n",
      "  data = [re.sub('\\s+', ' ', sent) for sent in data]\n"
     ]
    },
    {
     "name": "stdout",
     "output_type": "stream",
     "text": [
      "['From: (wheres my thing) Subject: WHAT car is this!? Nntp-Posting-Host: '\n",
      " 'rac3.wam.umd.edu Organization: University of Maryland, College Park Lines: '\n",
      " '15 I was wondering if anyone out there could enlighten me on this car I saw '\n",
      " 'the other day. It was a 2-door sports car, looked to be from the late 60s/ '\n",
      " 'early 70s. It was called a Bricklin. The doors were really small. In '\n",
      " 'addition, the front bumper was separate from the rest of the body. This is '\n",
      " 'all I know. If anyone can tellme a model name, engine specs, years of '\n",
      " 'production, where this car is made, history, or whatever info you have on '\n",
      " 'this funky looking car, please e-mail. Thanks, - IL ---- brought to you by '\n",
      " 'your neighborhood Lerxst ---- ']\n"
     ]
    }
   ],
   "source": [
    "# Convert to list\n",
    "data = df.content.values.tolist()\n",
    "\n",
    "# Remove Emails\n",
    "data = [re.sub('\\S*@\\S*\\s?', '', sent) for sent in data]\n",
    "\n",
    "# Remove new line characters\n",
    "data = [re.sub('\\s+', ' ', sent) for sent in data]\n",
    "\n",
    "# Remove distracting single quotes\n",
    "data = [re.sub(\"\\'\", \"\", sent) for sent in data]\n",
    "\n",
    "pprint(data[:1])"
   ]
  },
  {
   "cell_type": "code",
   "execution_count": 19,
   "id": "43218919-f1d6-4fe8-bcc3-fe3358907a75",
   "metadata": {},
   "outputs": [
    {
     "name": "stdout",
     "output_type": "stream",
     "text": [
      "[['from', 'wheres', 'my', 'thing', 'subject', 'what', 'car', 'is', 'this', 'nntp', 'posting', 'host', 'rac', 'wam', 'umd', 'edu', 'organization', 'university', 'of', 'maryland', 'college', 'park', 'lines', 'was', 'wondering', 'if', 'anyone', 'out', 'there', 'could', 'enlighten', 'me', 'on', 'this', 'car', 'saw', 'the', 'other', 'day', 'it', 'was', 'door', 'sports', 'car', 'looked', 'to', 'be', 'from', 'the', 'late', 'early', 'it', 'was', 'called', 'bricklin', 'the', 'doors', 'were', 'really', 'small', 'in', 'addition', 'the', 'front', 'bumper', 'was', 'separate', 'from', 'the', 'rest', 'of', 'the', 'body', 'this', 'is', 'all', 'know', 'if', 'anyone', 'can', 'tellme', 'model', 'name', 'engine', 'specs', 'years', 'of', 'production', 'where', 'this', 'car', 'is', 'made', 'history', 'or', 'whatever', 'info', 'you', 'have', 'on', 'this', 'funky', 'looking', 'car', 'please', 'mail', 'thanks', 'il', 'brought', 'to', 'you', 'by', 'your', 'neighborhood', 'lerxst']]\n"
     ]
    }
   ],
   "source": [
    "def sent_to_words(sentences):\n",
    "    for sentence in sentences:\n",
    "        yield(gensim.utils.simple_preprocess(str(sentence), deacc=True))  # deacc=True removes punctuations\n",
    "\n",
    "data_words = list(sent_to_words(data))\n",
    "\n",
    "print(data_words[:1])"
   ]
  },
  {
   "cell_type": "code",
   "execution_count": 21,
   "id": "00e9a016-a766-40f9-a731-465a887be786",
   "metadata": {},
   "outputs": [
    {
     "name": "stdout",
     "output_type": "stream",
     "text": [
      "['from', 'wheres', 'my', 'thing', 'subject', 'what', 'car', 'is', 'this', 'nntp_posting_host', 'rac_wam_umd_edu', 'organization', 'university', 'of', 'maryland_college_park', 'lines', 'was', 'wondering', 'if', 'anyone', 'out', 'there', 'could', 'enlighten', 'me', 'on', 'this', 'car', 'saw', 'the', 'other', 'day', 'it', 'was', 'door', 'sports', 'car', 'looked', 'to', 'be', 'from', 'the', 'late', 'early', 'it', 'was', 'called', 'bricklin', 'the', 'doors', 'were', 'really', 'small', 'in', 'addition', 'the', 'front_bumper', 'was', 'separate', 'from', 'the', 'rest', 'of', 'the', 'body', 'this', 'is', 'all', 'know', 'if', 'anyone', 'can', 'tellme', 'model', 'name', 'engine', 'specs', 'years', 'of', 'production', 'where', 'this', 'car', 'is', 'made', 'history', 'or', 'whatever', 'info', 'you', 'have', 'on', 'this', 'funky', 'looking', 'car', 'please', 'mail', 'thanks', 'il', 'brought', 'to', 'you', 'by', 'your', 'neighborhood', 'lerxst']\n"
     ]
    }
   ],
   "source": [
    "# Build the bigram and trigram models\n",
    "bigram = gensim.models.Phrases(data_words, min_count=5, threshold=100) # higher threshold fewer phrases.\n",
    "trigram = gensim.models.Phrases(bigram[data_words], threshold=100)  \n",
    "\n",
    "# Faster way to get a sentence clubbed as a trigram/bigram\n",
    "bigram_mod = gensim.models.phrases.Phraser(bigram)\n",
    "trigram_mod = gensim.models.phrases.Phraser(trigram)\n",
    "\n",
    "# See trigram example\n",
    "print(trigram_mod[bigram_mod[data_words[0]]])"
   ]
  },
  {
   "cell_type": "code",
   "execution_count": 23,
   "id": "099cd4b3-3322-401e-8960-20dddc29c75e",
   "metadata": {},
   "outputs": [],
   "source": [
    "# Define functions for stopwords, bigrams, trigrams and lemmatization\n",
    "def remove_stopwords(texts):\n",
    "    return [[word for word in simple_preprocess(str(doc)) if word not in stop_words] for doc in texts]\n",
    "\n",
    "def make_bigrams(texts):\n",
    "    return [bigram_mod[doc] for doc in texts]\n",
    "\n",
    "def make_trigrams(texts):\n",
    "    return [trigram_mod[bigram_mod[doc]] for doc in texts]\n",
    "\n",
    "def lemmatization(texts, allowed_postags=['NOUN', 'ADJ', 'VERB', 'ADV']):\n",
    "    \"\"\"https://spacy.io/api/annotation\"\"\"\n",
    "    texts_out = []\n",
    "    for sent in texts:\n",
    "        doc = nlp(\" \".join(sent)) \n",
    "        texts_out.append([token.lemma_ for token in doc if token.pos_ in allowed_postags])\n",
    "    return texts_out"
   ]
  },
  {
   "cell_type": "code",
   "execution_count": 37,
   "id": "e1432b16-895c-4f7d-a0e2-4fd4ddd4e9e2",
   "metadata": {},
   "outputs": [
    {
     "name": "stdout",
     "output_type": "stream",
     "text": [
      "[['s', 'thing', 'car', 'nntp_poste', 'host', 'park', 'line', 'wonder', 'enlighten', 'car', 'see', 'day', 'door', 'sport', 'car', 'look', 'late', 'early', 'call', 'bricklin', 'door', 'really', 'small', 'addition', 'front_bump', 'separate', 'rest', 'body', 'know', 'tellme', 'model', 'name', 'engine', 'spec', 'year', 'production', 'car', 'make', 'history', 'info', 'funky', 'look', 'car', 'mail', 'thank', 'bring', 'neighborhood', 'lerxst']]\n"
     ]
    }
   ],
   "source": [
    "# Remove Stop Words\n",
    "data_words_nostops = remove_stopwords(data_words)\n",
    "\n",
    "# Form Bigrams\n",
    "data_words_bigrams = make_bigrams(data_words_nostops)\n",
    "\n",
    "# Initialize spacy 'en' model, keeping only tagger component (for efficiency)\n",
    "# python3 -m spacy download en\n",
    "nlp = spacy.load(\"en_core_web_md\", disable=['parser', 'ner'])\n",
    "\n",
    "# Do lemmatization keeping only noun, adj, vb, adv\n",
    "data_lemmatized = lemmatization(data_words_bigrams, allowed_postags=['NOUN', 'ADJ', 'VERB', 'ADV'])\n",
    "\n",
    "print(data_lemmatized[:1])"
   ]
  },
  {
   "cell_type": "code",
   "execution_count": 38,
   "id": "7c20f78d-a4a6-4efa-b92f-091a12d9da22",
   "metadata": {},
   "outputs": [
    {
     "name": "stdout",
     "output_type": "stream",
     "text": [
      "[[(0, 1), (1, 1), (2, 1), (3, 1), (4, 1), (5, 5), (6, 1), (7, 2), (8, 1), (9, 1), (10, 1), (11, 1), (12, 1), (13, 1), (14, 1), (15, 1), (16, 1), (17, 1), (18, 1), (19, 1), (20, 2), (21, 1), (22, 1), (23, 1), (24, 1), (25, 1), (26, 1), (27, 1), (28, 1), (29, 1), (30, 1), (31, 1), (32, 1), (33, 1), (34, 1), (35, 1), (36, 1), (37, 1), (38, 1), (39, 1), (40, 1), (41, 1)]]\n"
     ]
    }
   ],
   "source": [
    "# Create Dictionary\n",
    "id2word = corpora.Dictionary(data_lemmatized)\n",
    "\n",
    "# Create Corpus\n",
    "texts = data_lemmatized\n",
    "\n",
    "# Term Document Frequency\n",
    "corpus = [id2word.doc2bow(text) for text in texts]\n",
    "\n",
    "# View\n",
    "print(corpus[:1])"
   ]
  },
  {
   "cell_type": "code",
   "execution_count": 39,
   "id": "a6d37fc7-19b0-4075-972b-543d81f91b38",
   "metadata": {},
   "outputs": [
    {
     "data": {
      "text/plain": [
       "'addition'"
      ]
     },
     "execution_count": 39,
     "metadata": {},
     "output_type": "execute_result"
    }
   ],
   "source": [
    "id2word[0]"
   ]
  },
  {
   "cell_type": "code",
   "execution_count": 40,
   "id": "066c7d5c-f624-4037-b9e4-537e582286e2",
   "metadata": {},
   "outputs": [
    {
     "data": {
      "text/plain": [
       "[[('addition', 1),\n",
       "  ('body', 1),\n",
       "  ('bricklin', 1),\n",
       "  ('bring', 1),\n",
       "  ('call', 1),\n",
       "  ('car', 5),\n",
       "  ('day', 1),\n",
       "  ('door', 2),\n",
       "  ('early', 1),\n",
       "  ('engine', 1),\n",
       "  ('enlighten', 1),\n",
       "  ('front_bump', 1),\n",
       "  ('funky', 1),\n",
       "  ('history', 1),\n",
       "  ('host', 1),\n",
       "  ('info', 1),\n",
       "  ('know', 1),\n",
       "  ('late', 1),\n",
       "  ('lerxst', 1),\n",
       "  ('line', 1),\n",
       "  ('look', 2),\n",
       "  ('mail', 1),\n",
       "  ('make', 1),\n",
       "  ('model', 1),\n",
       "  ('name', 1),\n",
       "  ('neighborhood', 1),\n",
       "  ('nntp_poste', 1),\n",
       "  ('park', 1),\n",
       "  ('production', 1),\n",
       "  ('really', 1),\n",
       "  ('rest', 1),\n",
       "  ('s', 1),\n",
       "  ('see', 1),\n",
       "  ('separate', 1),\n",
       "  ('small', 1),\n",
       "  ('spec', 1),\n",
       "  ('sport', 1),\n",
       "  ('tellme', 1),\n",
       "  ('thank', 1),\n",
       "  ('thing', 1),\n",
       "  ('wonder', 1),\n",
       "  ('year', 1)]]"
      ]
     },
     "execution_count": 40,
     "metadata": {},
     "output_type": "execute_result"
    }
   ],
   "source": [
    "# Human readable format of corpus (term-frequency)\n",
    "[[(id2word[id], freq) for id, freq in cp] for cp in corpus[:1]]"
   ]
  },
  {
   "cell_type": "code",
   "execution_count": 41,
   "id": "d9c676fb-14a2-4256-a39a-4462078543c3",
   "metadata": {},
   "outputs": [],
   "source": [
    "# Build LDA model\n",
    "lda_model = gensim.models.ldamodel.LdaModel(corpus=corpus,\n",
    "                                           id2word=id2word,\n",
    "                                           num_topics=20, \n",
    "                                           random_state=100,\n",
    "                                           update_every=1,\n",
    "                                           chunksize=100,\n",
    "                                           passes=10,\n",
    "                                           alpha='auto',\n",
    "                                           per_word_topics=True)"
   ]
  },
  {
   "cell_type": "code",
   "execution_count": 42,
   "id": "b27b4bf4-88de-465b-b588-924bf68e74c4",
   "metadata": {},
   "outputs": [
    {
     "name": "stdout",
     "output_type": "stream",
     "text": [
      "[(0,\n",
      "  '0.109*\"model\" + 0.069*\"notice\" + 0.053*\"external\" + 0.052*\"printer\" + '\n",
      "  '0.035*\"helmet\" + 0.028*\"devil\" + 0.027*\"reliable\" + 0.024*\"remind\" + '\n",
      "  '0.019*\"mph\" + 0.015*\"cd_rom\"'),\n",
      " (1,\n",
      "  '0.104*\"line\" + 0.068*\"organization\" + 0.062*\"write\" + 0.045*\"nntp_poste\" + '\n",
      "  '0.043*\"article\" + 0.040*\"host\" + 0.023*\"reply\" + 0.022*\"get\" + '\n",
      "  '0.018*\"thank\" + 0.015*\"m\"'),\n",
      " (2,\n",
      "  '0.036*\"drive\" + 0.035*\"system\" + 0.028*\"use\" + 0.028*\"window\" + '\n",
      "  '0.022*\"card\" + 0.022*\"run\" + 0.019*\"problem\" + 0.017*\"software\" + '\n",
      "  '0.017*\"machine\" + 0.017*\"driver\"'),\n",
      " (3,\n",
      "  '0.100*\"space\" + 0.033*\"field\" + 0.028*\"earth\" + 0.027*\"launch\" + '\n",
      "  '0.021*\"mission\" + 0.021*\"orbit\" + 0.017*\"satellite\" + 0.016*\"plane\" + '\n",
      "  '0.015*\"flight\" + 0.014*\"rocket\"'),\n",
      " (4,\n",
      "  '0.053*\"government\" + 0.040*\"state\" + 0.036*\"public\" + 0.034*\"law\" + '\n",
      "  '0.026*\"right\" + 0.019*\"people\" + 0.019*\"protect\" + 0.018*\"country\" + '\n",
      "  '0.016*\"private\" + 0.014*\"crime\"'),\n",
      " (5,\n",
      "  '0.021*\"know\" + 0.020*\"go\" + 0.020*\"think\" + 0.019*\"make\" + 0.019*\"say\" + '\n",
      "  '0.017*\"get\" + 0.016*\"see\" + 0.015*\"well\" + 0.014*\"people\" + 0.014*\"time\"'),\n",
      " (6,\n",
      "  '0.016*\"also\" + 0.013*\"use\" + 0.010*\"number\" + 0.010*\"group\" + 0.009*\"case\" '\n",
      "  '+ 0.008*\"information\" + 0.008*\"find\" + 0.008*\"call\" + 0.007*\"part\" + '\n",
      "  '0.007*\"follow\"'),\n",
      " (7,\n",
      "  '0.063*\"scan\" + 0.062*\"bus\" + 0.059*\"controller\" + 0.054*\"fax\" + '\n",
      "  '0.040*\"apple\" + 0.039*\"box\" + 0.038*\"ram\" + 0.037*\"expensive\" + '\n",
      "  '0.028*\"multiple\" + 0.024*\"serial\"'),\n",
      " (8,\n",
      "  '0.776*\"ax\" + 0.028*\"_\" + 0.011*\"doctor\" + 0.008*\"club\" + 0.007*\"cap\" + '\n",
      "  '0.006*\"cd\" + 0.006*\"immediate\" + 0.006*\"modem\" + 0.004*\"be\" + 0.004*\"amp\"'),\n",
      " (9,\n",
      "  '0.113*\"car\" + 0.090*\"gun\" + 0.028*\"firearm\" + 0.022*\"weapon\" + 0.022*\"road\" '\n",
      "  '+ 0.020*\"drive\" + 0.019*\"safety\" + 0.019*\"fire\" + 0.019*\"cop\" + '\n",
      "  '0.018*\"insurance\"'),\n",
      " (10,\n",
      "  '0.088*\"baseball\" + 0.066*\"battery\" + 0.027*\"giant\" + 0.020*\"log\" + '\n",
      "  '0.015*\"divide\" + 0.015*\"te\" + 0.004*\"condemnation\" + 0.000*\"hockey\" + '\n",
      "  '0.000*\"metal\" + 0.000*\"inverter\"'),\n",
      " (11,\n",
      "  '0.085*\"wing\" + 0.064*\"proof\" + 0.057*\"terrorism\" + 0.043*\"imply\" + '\n",
      "  '0.034*\"fuel\" + 0.034*\"volume\" + 0.026*\"publication\" + 0.022*\"space_station\" '\n",
      "  '+ 0.020*\"assure\" + 0.020*\"extension\"'),\n",
      " (12,\n",
      "  '0.137*\"key\" + 0.042*\"chip\" + 0.041*\"phone\" + 0.039*\"encryption\" + '\n",
      "  '0.030*\"clipper\" + 0.028*\"block\" + 0.028*\"master\" + 0.023*\"digital\" + '\n",
      "  '0.023*\"secure\" + 0.023*\"algorithm\"'),\n",
      " (13,\n",
      "  '0.033*\"evidence\" + 0.026*\"reason\" + 0.025*\"believe\" + 0.022*\"claim\" + '\n",
      "  '0.019*\"say\" + 0.017*\"sense\" + 0.017*\"people\" + 0.016*\"faith\" + '\n",
      "  '0.015*\"exist\" + 0.014*\"man\"'),\n",
      " (14,\n",
      "  '0.050*\"soul\" + 0.041*\"stream\" + 0.030*\"brief\" + 0.012*\"poll\" + '\n",
      "  '0.005*\"impedance\" + 0.004*\"checking\" + 0.000*\"encrypt\" + 0.000*\"protocol\" + '\n",
      "  '0.000*\"transmission\" + 0.000*\"translation\"'),\n",
      " (15,\n",
      "  '0.147*\"file\" + 0.093*\"program\" + 0.066*\"entry\" + 0.063*\"image\" + '\n",
      "  '0.040*\"package\" + 0.037*\"format\" + 0.032*\"code\" + 0.024*\"convert\" + '\n",
      "  '0.021*\"graphic\" + 0.021*\"telnet\"'),\n",
      " (16,\n",
      "  '0.081*\"year\" + 0.038*\"team\" + 0.028*\"play\" + 0.027*\"win\" + 0.022*\"last\" + '\n",
      "  '0.021*\"run\" + 0.019*\"player\" + 0.016*\"discussion\" + 0.015*\"first\" + '\n",
      "  '0.015*\"pin\"'),\n",
      " (17,\n",
      "  '0.094*\"com\" + 0.045*\"board\" + 0.044*\"server\" + 0.042*\"instal\" + '\n",
      "  '0.038*\"hardware\" + 0.038*\"error\" + 0.034*\"headache\" + 0.032*\"clipper_chip\" '\n",
      "  '+ 0.028*\"law_enforcement\" + 0.027*\"trust\"'),\n",
      " (18,\n",
      "  '0.045*\"kill\" + 0.043*\"attack\" + 0.042*\"war\" + 0.040*\"israeli\" + '\n",
      "  '0.031*\"village\" + 0.031*\"soldier\" + 0.026*\"land\" + 0.025*\"arab\" + '\n",
      "  '0.022*\"force\" + 0.021*\"greek\"'),\n",
      " (19,\n",
      "  '0.048*\"eat\" + 0.038*\"turkish\" + 0.032*\"armenian\" + 0.026*\"turk\" + '\n",
      "  '0.021*\"turkey\" + 0.021*\"girl\" + 0.018*\"escape\" + 0.016*\"child\" + '\n",
      "  '0.014*\"slaughter\" + 0.014*\"proceed\"')]\n"
     ]
    }
   ],
   "source": [
    "# Print the Keyword in the 10 topics\n",
    "pprint(lda_model.print_topics())\n",
    "doc_lda = lda_model[corpus]"
   ]
  },
  {
   "cell_type": "code",
   "execution_count": 43,
   "id": "9eb00d3e-fbbf-4cb4-8d21-56fb137711d0",
   "metadata": {},
   "outputs": [
    {
     "name": "stdout",
     "output_type": "stream",
     "text": [
      "\n",
      "Perplexity:  -13.148880842201951\n",
      "\n",
      "Coherence Score:  0.548693604527873\n"
     ]
    }
   ],
   "source": [
    "# Compute Perplexity\n",
    "print('\\nPerplexity: ', lda_model.log_perplexity(corpus))  # a measure of how good the model is. lower the better.\n",
    "\n",
    "# Compute Coherence Score\n",
    "coherence_model_lda = CoherenceModel(model=lda_model, texts=data_lemmatized, dictionary=id2word, coherence='c_v')\n",
    "coherence_lda = coherence_model_lda.get_coherence()\n",
    "print('\\nCoherence Score: ', coherence_lda)"
   ]
  },
  {
   "cell_type": "code",
   "execution_count": 44,
   "id": "17ae2aca-91db-4659-b076-4583c2623592",
   "metadata": {},
   "outputs": [
    {
     "data": {
      "text/html": [
       "\n",
       "<link rel=\"stylesheet\" type=\"text/css\" href=\"https://cdn.jsdelivr.net/gh/bmabey/pyLDAvis@3.4.0/pyLDAvis/js/ldavis.v1.0.0.css\">\n",
       "\n",
       "\n",
       "<div id=\"ldavis_el2647352474011688964002605\" style=\"background-color:white;\"></div>\n",
       "<script type=\"text/javascript\">\n",
       "\n",
       "var ldavis_el2647352474011688964002605_data = {\"mdsDat\": {\"x\": [0.3422518615349934, 0.3117460446854008, 0.24121299403194313, 0.1954714208570221, 0.2310868883319717, -0.01185464117109373, 0.10426575700148541, 0.08928719567115297, -0.0304033929307706, -0.0588469522369064, -0.044291757916067244, -0.08673869519495278, -0.0673228523010823, -0.12949360379035382, -0.11269618819769751, -0.1707281706120004, -0.1789298771059766, -0.192643854203459, -0.2135382424324042, -0.21783393402120454], \"y\": [-0.10645398880295981, -0.0017088381911952212, 0.18064653684604504, 0.25883809075608744, -0.27497530343799564, 0.03939420437023933, 0.06235339987519722, -0.18689457839914786, 0.1156326253981944, 0.0583085121470501, 0.06556034504845107, 0.05510960875265333, -0.09947490704553671, -0.007634294084995905, -0.08911949603589574, -0.007108975193565695, -0.012787166283055972, -0.014081192310916741, -0.017497920697481857, -0.018106662711168613], \"topics\": [1, 2, 3, 4, 5, 6, 7, 8, 9, 10, 11, 12, 13, 14, 15, 16, 17, 18, 19, 20], \"cluster\": [1, 1, 1, 1, 1, 1, 1, 1, 1, 1, 1, 1, 1, 1, 1, 1, 1, 1, 1, 1], \"Freq\": [30.783463411263867, 21.326420455192956, 11.628090630418916, 6.886712121631616, 6.265772706550877, 5.267747523125362, 4.546418704049807, 3.314522430958107, 1.4493687420165184, 1.4241855284632092, 1.410530034642312, 1.2981065892892427, 1.1718070798095255, 0.9145196166046877, 0.8825785955104394, 0.5406987735555713, 0.44181294188885556, 0.2756111568244908, 0.11395936805855039, 0.057673590145064894]}, \"tinfo\": {\"Term\": [\"ax\", \"line\", \"organization\", \"write\", \"year\", \"nntp_poste\", \"article\", \"host\", \"people\", \"say\", \"key\", \"file\", \"use\", \"program\", \"right\", \"go\", \"drive\", \"get\", \"system\", \"car\", \"think\", \"space\", \"know\", \"state\", \"government\", \"evidence\", \"believe\", \"reason\", \"reply\", \"gun\", \"go\", \"come\", \"s\", \"tell\", \"really\", \"still\", \"never\", \"re\", \"let\", \"bad\", \"put\", \"talk\", \"happen\", \"maybe\", \"ever\", \"money\", \"kind\", \"remember\", \"turn\", \"feel\", \"hard\", \"d\", \"away\", \"hope\", \"already\", \"suggest\", \"certainly\", \"compare\", \"guy\", \"story\", \"little\", \"take\", \"enough\", \"think\", \"see\", \"back\", \"well\", \"thing\", \"know\", \"even\", \"seem\", \"much\", \"far\", \"ve\", \"make\", \"try\", \"way\", \"say\", \"time\", \"good\", \"people\", \"get\", \"want\", \"give\", \"sure\", \"right\", \"write\", \"m\", \"point\", \"large\", \"result\", \"receive\", \"small\", \"copy\", \"physical\", \"die\", \"patient\", \"current\", \"general\", \"reference\", \"level\", \"solution\", \"effect\", \"usually\", \"produce\", \"similar\", \"hell\", \"section\", \"drug\", \"page\", \"process\", \"risk\", \"condition\", \"complete\", \"originator\", \"method\", \"ground\", \"specific\", \"detail\", \"cover\", \"appear\", \"return\", \"group\", \"information\", \"contain\", \"number\", \"note\", \"provide\", \"order\", \"free\", \"power\", \"require\", \"also\", \"cause\", \"part\", \"book\", \"follow\", \"case\", \"use\", \"source\", \"include\", \"name\", \"read\", \"call\", \"message\", \"find\", \"list\", \"send\", \"new\", \"question\", \"post\", \"many\", \"however\", \"first\", \"nntp_poste\", \"host\", \"line\", \"organization\", \"game\", \"sell\", \"keyword\", \"disk\", \"season\", \"bike\", \"appreciate\", \"pick\", \"advance\", \"trade\", \"brain\", \"version_pl\", \"motif\", \"clearly\", \"motherboard\", \"mount\", \"pen\", \"dealer\", \"market\", \"insist\", \"dept\", \"warranty\", \"btw\", \"excuse\", \"university\", \"motto\", \"reply\", \"thank\", \"price\", \"buy\", \"engineering\", \"distribution_world\", \"interested\", \"article\", \"wire\", \"write\", \"hit\", \"big\", \"mail\", \"email\", \"cost\", \"look\", \"new\", \"info\", \"m\", \"get\", \"need\", \"help\", \"like\", \"post\", \"good\", \"want\", \"window\", \"card\", \"software\", \"machine\", \"sale\", \"memory\", \"pc\", \"color\", \"application\", \"screen\", \"video\", \"cpu\", \"device\", \"display\", \"tape\", \"access\", \"input\", \"monitor\", \"mode\", \"character\", \"scsi\", \"normal\", \"ide\", \"port\", \"manual\", \"feature\", \"unix\", \"signal\", \"interface\", \"mouse\", \"version\", \"driver\", \"drive\", \"user\", \"system\", \"speed\", \"fast\", \"computer\", \"run\", \"use\", \"bit\", \"problem\", \"do\", \"datum\", \"work\", \"set\", \"program\", \"evidence\", \"faith\", \"god\", \"argument\", \"religion\", \"christian\", \"truth\", \"belief\", \"atheist\", \"church\", \"conclusion\", \"religious\", \"revelation\", \"nature\", \"moral\", \"atheism\", \"universe\", \"animal\", \"christianity\", \"interpretation\", \"reject\", \"assumption\", \"scripture\", \"context\", \"principle\", \"tradition\", \"homosexual\", \"morality\", \"equal\", \"holy\", \"claim\", \"human\", \"objective\", \"sense\", \"prove\", \"therefore\", \"child\", \"exist\", \"science\", \"reason\", \"believe\", \"statement\", \"man\", \"accept\", \"explain\", \"life\", \"true\", \"word\", \"death\", \"say\", \"people\", \"fact\", \"mean\", \"question\", \"ax\", \"_\", \"doctor\", \"club\", \"cap\", \"cd\", \"immediate\", \"modem\", \"be\", \"amp\", \"amazing\", \"volt\", \"campaign\", \"diet\", \"runner\", \"boost\", \"rev\", \"slight\", \"row\", \"pickup\", \"neat\", \"sho\", \"bed\", \"good_luck\", \"narrow\", \"openwindow\", \"acceleration\", \"worse\", \"curve\", \"prescription\", \"team\", \"play\", \"win\", \"player\", \"pin\", \"goal\", \"publish\", \"score\", \"watch\", \"total\", \"family\", \"kid\", \"material\", \"fan\", \"average\", \"third\", \"room\", \"processor\", \"hot\", \"factor\", \"vote\", \"responsible\", \"defense\", \"ice\", \"improve\", \"water\", \"draft\", \"honest\", \"band\", \"reserve_university\", \"year\", \"discussion\", \"self\", \"record\", \"race\", \"age\", \"division\", \"rate\", \"last\", \"serious\", \"lose\", \"run\", \"first\", \"second\", \"increase\", \"high\", \"protect\", \"private\", \"crime\", \"citizen\", \"legal\", \"trial\", \"weight\", \"united_state\", \"rational\", \"court\", \"tax\", \"effective\", \"pgp\", \"protection\", \"federal\", \"proposal\", \"minority\", \"agent\", \"predict\", \"privacy\", \"restrict\", \"role\", \"consideration\", \"administration\", \"approve\", \"social\", \"officer\", \"prohibit\", \"restriction\", \"warrant\", \"government\", \"political\", \"public\", \"law\", \"policy\", \"country\", \"state\", \"national\", \"hate\", \"police\", \"community\", \"right\", \"deny\", \"issue\", \"people\", \"person\", \"security\", \"case\", \"key\", \"phone\", \"encryption\", \"clipper\", \"master\", \"digital\", \"secure\", \"algorithm\", \"tap\", \"secret\", \"listen\", \"quick\", \"decent\", \"registration\", \"trace\", \"scheme\", \"sight\", \"capacity\", \"noise\", \"wiring\", \"guilty\", \"compression\", \"strip\", \"brave\", \"dirty\", \"forum\", \"automobile\", \"instrument\", \"access_digex\", \"characteristic\", \"block\", \"chip\", \"security\", \"technology\", \"register\", \"bit\", \"datum\", \"system\", \"public\", \"car\", \"gun\", \"firearm\", \"cop\", \"insurance\", \"dog\", \"tie\", \"auto\", \"tank\", \"factory\", \"accident\", \"cylinder\", \"red\", \"truck\", \"gear\", \"corner\", \"ammunition\", \"spot\", \"improvement\", \"lift\", \"trigger\", \"highway\", \"revolver\", \"rear\", \"cage\", \"pistol\", \"wash\", \"mileage\", \"precisely\", \"gas\", \"mile\", \"weapon\", \"road\", \"safety\", \"vehicle\", \"shoot\", \"fire\", \"light\", \"drive\", \"kill\", \"carry\", \"front\", \"pull\", \"space\", \"field\", \"launch\", \"mission\", \"orbit\", \"satellite\", \"plane\", \"flight\", \"rocket\", \"moon\", \"imaging\", \"map\", \"shuttle\", \"saturn\", \"sky\", \"mar\", \"spacecraft\", \"specification\", \"astronomy\", \"experiment\", \"lunar\", \"radiation\", \"solar\", \"assign\", \"ozone\", \"tip\", \"distant\", \"planetary\", \"frequently_aske\", \"space_shuttle\", \"energy\", \"earth\", \"structure\", \"planet\", \"project\", \"research\", \"datum\", \"faq\", \"science\", \"scientific\", \"program\", \"file\", \"entry\", \"image\", \"package\", \"format\", \"convert\", \"telnet\", \"crash\", \"session\", \"directory\", \"implementation\", \"edit\", \"plot\", \"parameter\", \"worthless\", \"shareware\", \"kinda\", \"cooling_tower\", \"space_dig\", \"original_sender\", \"documentary\", \"added_forwarde\", \"painless\", \"pinch\", \"pc_magazine\", \"parity\", \"eric_bosco\", \"workshop\", \"invader\", \"capture\", \"object\", \"program\", \"code\", \"graphic\", \"hardware\", \"source\", \"function\", \"error\", \"email\", \"scan\", \"site\", \"test\", \"war\", \"israeli\", \"land\", \"arab\", \"occupy\", \"withdraw\", \"route\", \"civilian\", \"bomb\", \"inhabitant\", \"imho\", \"invasion\", \"essentially\", \"british\", \"territory\", \"cross\", \"film\", \"army\", \"disarm\", \"speaker\", \"suitable\", \"bolt\", \"leadership\", \"occupation\", \"tight\", \"sue\", \"liberty\", \"river\", \"battle\", \"enemy\", \"village\", \"attack\", \"greek\", \"soldier\", \"troop\", \"kill\", \"aim\", \"peace\", \"fight\", \"jewish\", \"force\", \"military\", \"population\", \"area\", \"com\", \"board\", \"server\", \"headache\", \"clipper_chip\", \"law_enforcement\", \"trust\", \"hole\", \"link\", \"crypto\", \"compile\", \"bug\", \"expansion\", \"unlikely\", \"export\", \"pointer\", \"japanese\", \"opinions_expressed\", \"dumb\", \"deficit\", \"rs\", \"unusual\", \"warning\", \"intention\", \"int\", \"static\", \"political_atheist\", \"recieve\", \"invalid\", \"absurd\", \"instal\", \"sun\", \"properly\", \"error\", \"hardware\", \"obviously\", \"eat\", \"turkish\", \"armenian\", \"turk\", \"turkey\", \"girl\", \"escape\", \"slaughter\", \"tire\", \"serdar_argic\", \"genocide\", \"massacre\", \"nazi\", \"garage\", \"bury\", \"survivor\", \"longer_exist\", \"homeland\", \"remainder\", \"might_serve\", \"mountain_passe\", \"single_turkish\", \"appressian\", \"melkonian\", \"soul_sahak\", \"teenager\", \"resist\", \"shaft\", \"fascist\", \"territorial\", \"proceed\", \"soldier\", \"lie\", \"child\", \"woman\", \"destroy\", \"road\", \"murder\", \"historical\", \"burn\", \"history\", \"today\", \"people\", \"body\", \"bus\", \"controller\", \"fax\", \"apple\", \"box\", \"ram\", \"expensive\", \"multiple\", \"serial\", \"somehow\", \"apr\", \"custom\", \"bio\", \"dynamic\", \"buffer\", \"segment\", \"physics\", \"platform\", \"fish\", \"operator\", \"admin\", \"reboot\", \"dock\", \"worthwhile\", \"stuck\", \"measurement\", \"inability\", \"refresh\", \"spectrum\", \"chase\", \"scan\", \"instal\", \"hardware\", \"model\", \"notice\", \"external\", \"printer\", \"helmet\", \"devil\", \"reliable\", \"remind\", \"mph\", \"cd_rom\", \"paint\", \"resurrection\", \"retire\", \"flag\", \"nicely\", \"jim_frost\", \"retract\", \"mask\", \"brick\", \"acquisition\", \"theodore_kaldi\", \"canon_bj\", \"triangle\", \"goalie\", \"closet\", \"herein\", \"ist\", \"bumper\", \"buffalo\", \"rutger\", \"wing\", \"proof\", \"terrorism\", \"imply\", \"fuel\", \"volume\", \"publication\", \"space_station\", \"assure\", \"extension\", \"encounter\", \"phase\", \"cooperation\", \"imagination\", \"redesign\", \"compiler\", \"tim_clock\", \"declaration\", \"historically\", \"module\", \"lebanese\", \"coach\", \"sweep\", \"hockey\", \"talent\", \"shea\", \"resign\", \"playoff\", \"leaf\", \"patrol\", \"snip\", \"terrorist\", \"syrian\", \"choose\", \"baseball\", \"battery\", \"giant\", \"log\", \"divide\", \"te\", \"condemnation\", \"inverter\", \"construct_home\", \"copper\", \"metal\", \"usr_user\", \"standby\", \"zinc\", \"beast_profile\", \"discharge\", \"pirate\", \"electrolyte\", \"obtainable\", \"kick\", \"bond\", \"louis_blue\", \"slot\", \"droop\", \"specialist\", \"classy\", \"david_tate\", \"cube\", \"tray\", \"umpire\", \"cub\", \"hockey\", \"equipment\", \"grade\", \"timer\", \"playoff\", \"expert\", \"chance\", \"soul\", \"stream\", \"brief\", \"poll\", \"impedance\", \"checking\", \"encrypt\", \"protocol\", \"transmission\", \"translation\", \"spoof_chip\", \"rating\", \"mutilate\", \"detection\", \"correctness\", \"spatial\", \"redress\", \"interception\", \"temporal\", \"spoof\", \"hostile\", \"xor\", \"skipjack\", \"transmit\", \"elide\", \"secondary\", \"plaintext\", \"cleanse\", \"alter\", \"presumably\", \"valid\", \"serial_number\", \"sequence\", \"examine\"], \"Freq\": [51876.0, 15424.0, 9980.0, 13565.0, 4921.0, 6673.0, 7768.0, 5947.0, 7927.0, 8838.0, 2517.0, 2430.0, 6227.0, 2594.0, 3932.0, 7821.0, 3493.0, 10375.0, 4845.0, 2042.0, 7899.0, 1791.0, 8727.0, 2647.0, 2226.0, 2663.0, 3304.0, 3236.0, 3383.0, 1633.0, 7820.263822347318, 4891.272623353323, 4429.866204698386, 3351.7529258200516, 3100.363540894389, 2732.7049004584055, 2563.3270798606964, 2287.999799997457, 2205.2514582993213, 2201.0391443101007, 2014.4579633439564, 1903.2986564899613, 1894.610542803438, 1482.8162266110292, 1413.6964466085897, 1400.162324886992, 1372.7256017760715, 1314.7715745494133, 1298.7091364114165, 1250.6459223102102, 1240.9768338638314, 1056.9801055992682, 1052.7663358879033, 958.8117541418536, 925.6376661304998, 881.1776372838425, 836.3249273888142, 833.563240516189, 793.7078427765873, 780.4889758818213, 2069.556318637061, 4731.242176608146, 1710.619455462183, 7659.867989343972, 6133.371546042354, 2592.42150656321, 5745.071129533571, 4507.446732784967, 8116.603723499566, 3981.694119985996, 3037.5940757976828, 3628.7229881229073, 2000.563823339596, 2778.600362321779, 7294.8427502666655, 3856.148275112399, 4028.8085671797853, 7291.168507574957, 5327.589306924165, 5040.55001455057, 5644.110975951675, 6812.211174889681, 3600.7429167217015, 3346.101084595584, 2461.8062912880537, 2844.6129943902715, 4389.906267912311, 3072.6924465182683, 2673.126742232102, 1514.926724711044, 1317.2880685723849, 1309.3393935191816, 1302.6194583474044, 1234.9185003930274, 1201.2315886669062, 1108.9452437590783, 1053.3507206198071, 1027.9808411781942, 1016.9707796829574, 999.8869209314306, 968.4226959006378, 927.4261244551542, 863.8614954860467, 835.5231383222742, 807.490232757219, 798.239574991861, 786.8390321400307, 777.2698752148877, 753.3500399392852, 733.0775967832384, 711.138280427011, 710.4259592307454, 667.3158719873699, 665.2284513116134, 654.0822413530609, 651.5900311257235, 614.1670416838033, 610.818545866583, 601.1121059075964, 891.875806700788, 978.7839721491565, 1144.9807164773995, 2648.4095773980207, 2079.7305567201197, 858.1445206606969, 2840.6731426303236, 1241.5804464045034, 1818.0395953805587, 1875.3399453081256, 1209.0910108386024, 1695.9869102365406, 1331.4103200566144, 4263.336339907484, 1399.1076221726244, 2018.2248581001857, 1686.2018697526676, 1913.5273201271905, 2403.7167517034545, 3635.113293051926, 1530.4567260932818, 1839.8425111466863, 1567.5742009047888, 1910.398678865547, 2072.930445231056, 1465.9494581107992, 2077.2715641965633, 1346.9956632679223, 1479.1383362409629, 1875.5063489855117, 1673.8907710207159, 1604.1131708105952, 1522.7921979255543, 1360.4192714339138, 1339.3887460703202, 6672.336681546536, 5946.53932743746, 15417.302477724797, 9974.665015902308, 2169.442832262913, 1301.2438024780697, 1067.3861833609399, 839.6338341271007, 733.7736658564452, 733.544433843782, 705.2433876986827, 671.9846064383316, 611.4797274377847, 575.2051189547631, 571.9609532774997, 492.4851490910408, 479.61004269344465, 462.9422978014802, 461.80851008067725, 434.2043017599792, 421.305962852554, 377.94488898976005, 360.59824617003744, 357.64170308857285, 337.1019305044512, 329.71337376166406, 326.8092069301693, 296.8732931925086, 1823.4302032104497, 276.7081276455725, 3338.5847967364416, 2661.6873392920843, 1308.6090579757915, 1563.0297852897263, 533.0185928078273, 1105.437116552583, 950.4063722571286, 6403.51097331571, 655.9456514869495, 9160.082082277495, 631.7378573916553, 1190.7186424630565, 1799.300836019638, 993.481026390757, 918.1131148594098, 1967.711787595763, 1930.6032832273957, 919.9028429390866, 2215.6173768130607, 3179.0549875567704, 1986.4821433624995, 1484.5377198034876, 1008.0628630703416, 1388.5426388352148, 1293.3314145003483, 1051.3936246939797, 2406.5466195228505, 1935.4861471113343, 1472.2279900205826, 1468.9726288073612, 1368.1674834357596, 1044.343471731273, 1027.7466984390758, 970.1230435182745, 941.2019142764425, 905.4549803778962, 846.8787512725538, 838.2954879536595, 809.5367034061844, 790.8414173271028, 774.676151998843, 742.5693541507953, 695.9407664009105, 681.935809056635, 654.7732783093404, 642.9224005793808, 621.4327747674164, 552.0489402056793, 506.0395663840448, 489.5317000157381, 473.8300614989202, 463.2551446766638, 426.89424822037176, 413.8679590799659, 412.6384870491321, 411.9456725172216, 1047.0784994732635, 1447.7380404854032, 3126.9398838243346, 857.7141604968135, 3042.496217779689, 828.1766261993267, 877.5365779443384, 1398.7332279363718, 1913.5938755190582, 2480.0084893018857, 1248.6271578525611, 1676.0275730562912, 1232.0794787683365, 876.8232871382902, 1181.9901971476736, 916.3330518989679, 911.6063299453167, 2662.289165168313, 1262.684726992713, 950.527065914015, 921.8177764058099, 901.0731782082988, 845.3040423835929, 839.6854760456234, 786.0994986951576, 729.287747658558, 684.1429163998093, 597.6668180982058, 565.1712983004434, 417.1854211136635, 416.03328500722034, 405.45272213097, 346.8471544001455, 323.6808740351582, 319.7570481679033, 303.2196523558069, 296.0669416238108, 291.34298728683876, 278.3231307499238, 269.9951908178925, 243.60650721026283, 226.3905040833417, 211.72826006335015, 211.23778645967334, 202.2710548914243, 201.12232626631305, 188.57246140724266, 1722.630409113895, 626.6388540473762, 292.27124816598916, 1377.567071191022, 755.89239891452, 405.79413694529455, 1073.2318761152496, 1228.4002794956803, 742.9969339651412, 2042.6229809099486, 1969.2222773871868, 503.98093375229615, 1132.7933905110467, 666.2431947360656, 652.0785170662189, 810.6398829450918, 820.830252170994, 718.5760337888685, 666.3549749388895, 1545.7446456913644, 1374.496041602767, 746.7647194100974, 786.7605500735547, 637.7385022591394, 51875.31649744754, 1891.1305394213068, 758.8976121591849, 561.4096799749343, 478.31601786798683, 417.8439818715631, 376.51354696923187, 370.5009131957638, 239.41854373457036, 238.57852373753863, 207.8266518163247, 197.56995066933715, 197.55540904726598, 196.81363062975143, 195.8756337294072, 176.8689707921571, 161.87465899578717, 159.38832186701114, 155.38057920593084, 153.6395235620848, 146.43298213668396, 134.45831445241518, 129.66067679672082, 125.32522607122414, 117.44930295489429, 110.0686668635408, 94.43415782010952, 86.49020513457201, 75.78031604834733, 58.26050672179397, 2208.6374334055686, 1642.5455799066713, 1573.7198687129453, 1120.368277745148, 846.5917972761798, 669.7916405201092, 665.2019052988799, 611.4408583399268, 544.8019792523809, 530.7704784336479, 509.95037050989663, 475.23802544501916, 460.4310339506736, 430.539894206452, 413.68200184508794, 397.93305899988934, 377.30093822875483, 373.2578841595669, 368.1163616306139, 367.89518446606263, 366.03689316627845, 352.91716363086607, 351.777200937557, 271.58083352561033, 269.2223808395001, 248.72245575152814, 247.18418604050163, 245.2853679893027, 243.27394576805884, 242.51939033074353, 4691.497571537724, 945.7228111889633, 570.9088395224892, 477.8996762806393, 393.17377253550643, 665.0246410731959, 590.1761386287715, 786.6453683198047, 1276.8701219391837, 486.2135727114497, 748.3664541344019, 1205.1290645959416, 876.3136007732766, 568.292821593966, 481.79379185092773, 437.2452172248427, 778.6248126507124, 689.9542873953794, 591.013480051059, 517.4322709851411, 484.0705862729269, 454.6171934280953, 409.8007366423616, 398.0366758481888, 344.9699728075491, 342.1606688357, 340.965324552977, 319.8560852757393, 308.0759585528362, 306.55110599037494, 285.20620696829883, 272.65213351770973, 263.9422057751583, 233.04301649277582, 227.88953677841445, 226.21009863341447, 222.26226890727864, 208.09570521226433, 204.74686033142282, 203.35033927284343, 192.0612813763978, 191.87417208447837, 191.73142042993126, 190.84906786850806, 190.39516619668635, 189.7253345242108, 2210.7282199595543, 394.8943761145111, 1533.4231476610007, 1434.3092201383138, 423.4976070331681, 739.0468282608424, 1670.6363671673018, 399.1675213048386, 295.47515676075733, 395.7306272975169, 409.8109247922881, 1086.7471468783103, 373.4409145179297, 532.4907484284328, 791.2897801947323, 452.27368383384743, 341.00208026309645, 422.77479698107476, 2516.0491780566967, 751.0663919080416, 721.8741174937253, 547.3354402090445, 507.8683652459758, 416.7526504157935, 415.2194254471415, 414.12766234809555, 400.3490966223216, 352.5498315390435, 343.12522719608666, 214.65632763453732, 194.65368758111342, 192.65765073938041, 182.53266004647213, 177.446064555646, 174.39172894615646, 172.1247732401034, 170.5735052909866, 148.79979163469235, 148.19275586173265, 137.84927889730807, 130.89676849604015, 126.27333614239714, 92.1775005367086, 87.16061811902685, 79.42188441563431, 77.12995468866251, 70.35565513100731, 68.79223001699044, 512.397341825818, 779.4801965327313, 366.973523774314, 365.64242131046996, 132.97423007012716, 370.88893620934743, 219.13006150875893, 289.0634886216053, 147.69557151114697, 2041.0555270576235, 1632.206685744975, 511.9745996312212, 340.6553074120878, 330.8868531419633, 292.4506237960089, 228.11797423665212, 218.43963218674728, 213.430911449984, 194.49687252056916, 193.28815313018288, 181.80201042912293, 172.44985373839503, 168.32944216205172, 163.33833304381417, 150.6218857755515, 148.68157705766836, 139.78440962833716, 138.62674035971958, 134.23737276585226, 116.01433979524626, 113.22144184878093, 105.29164223645441, 97.56846765524435, 96.35243253995422, 89.04260904364551, 77.35481667788818, 75.55994692828925, 67.47812082784274, 203.3023618783204, 322.18065223014537, 401.32817508881743, 397.52790434865796, 346.4415154420278, 219.27234520532022, 296.5661526100459, 343.13002604584744, 237.21584003388654, 364.9788720268285, 213.35903382141194, 183.1160122771014, 152.8277157402328, 152.15579713554206, 1790.2851154617642, 588.7991827478191, 477.4121945406014, 378.14205007084024, 368.785897252716, 301.0525509911818, 285.19915598477877, 268.04592566512, 246.1230361435064, 244.95021942702118, 221.18775310315726, 212.62449515693075, 206.16163820516775, 196.44609129519654, 190.14500504151292, 162.74966010409472, 161.3902759646518, 158.19361626575161, 156.80323205129275, 153.18762943435843, 146.32437291228464, 140.77575970056944, 140.26770198915975, 129.8543532292265, 123.73153825147504, 114.22539609783125, 111.41978925485428, 97.17530481204744, 96.42760935022541, 94.43487483469704, 201.29991261582023, 500.87409854489175, 130.92389750645742, 171.5282676838639, 190.62694864992372, 239.89834114514716, 211.78594229396597, 181.4707871710497, 173.16291714782972, 160.15524231439335, 155.89976079562382, 2429.2208580951938, 1083.884648560839, 1042.7210919022414, 665.7261137747159, 601.9787264357258, 389.58463025953785, 343.9352400146782, 315.0055712641168, 305.45303635466314, 276.9690934310868, 170.90981151668947, 159.45812301905133, 114.03740436505352, 88.57899967572662, 86.2464128644482, 76.28249775536084, 61.6343869481572, 49.639590953132725, 49.40143518099156, 43.57255021347553, 42.484850437895794, 41.8861423114237, 23.064414326557777, 19.14301613563187, 11.964192053673392, 7.397893035191069, 7.20290141413529, 7.063978492600581, 3.021307136487682, 140.89342133449097, 310.4995108964209, 1525.585376733716, 519.485256281851, 350.1590421470911, 209.19040726494643, 324.64404697480705, 159.11638556156257, 130.0414615103396, 155.80838600282013, 104.80964127813023, 96.28773608093513, 112.94258761687136, 618.101776459621, 597.93745249218, 389.89099388604257, 367.96290735615867, 309.0484500271416, 304.5302942406329, 282.00911491154613, 254.1818524380263, 239.5859954704072, 167.9487611070098, 164.3043823485334, 160.09532416400108, 139.80565441390138, 137.2443363636768, 126.50962268385128, 122.49115991021853, 119.64252184094636, 112.00084141438666, 108.47008844164935, 101.01580328498633, 97.73863724323586, 82.48434087420334, 81.31958652312008, 77.90371999772906, 77.74833306457343, 70.08738252487511, 67.45579990682945, 67.03731566693598, 65.16762289592758, 62.41196901025461, 467.2610938348953, 638.8862905241074, 310.5131171599202, 461.580829701336, 135.15131946696653, 673.2469387036548, 177.38301229175062, 237.31148486253284, 214.4765670343443, 235.7890766574596, 329.2412012211537, 228.88994669767723, 133.08369589691554, 133.26686587241446, 1094.990953527823, 519.7837886868755, 510.3432705104522, 397.71600396993585, 365.83281552064307, 319.70142638924335, 308.89331448008795, 303.52262343601217, 250.64886270467764, 223.71310881328756, 209.5490231680261, 185.11743230671297, 184.23630026650326, 180.00918450227562, 175.28775775031343, 155.88337017978807, 106.78888291753817, 102.8742793821046, 92.35026655047982, 92.10779252331616, 91.98263626797902, 84.92211954282378, 83.4203093489863, 72.80967316579263, 52.57570915315496, 51.94368411891414, 51.06351432012851, 49.94145432605452, 43.5965560073933, 42.97269380770497, 483.79202396743904, 265.57949797877495, 163.66606531125817, 441.96570296731784, 443.47817349872986, 80.84708117040438, 534.2756987490643, 430.48600996222456, 362.72138002379404, 292.3467052353204, 238.22687549768997, 237.22860476386643, 200.11036673634172, 154.85833095691416, 150.05460302034246, 146.90090055887777, 146.04403255708985, 131.46074893463893, 105.7377221891656, 97.06311533129029, 96.66145519480037, 77.5081149893741, 66.17471523215885, 65.75717441693823, 65.26530117380868, 63.4946367975951, 63.44692172280179, 63.40024483955494, 63.32771750850567, 63.32771750850567, 63.32771750850567, 58.282753506064445, 54.86082721556539, 54.67430227908111, 43.29801842884147, 38.150296939994554, 152.46922787567667, 147.45000476313598, 142.74894823176135, 176.55416574030573, 128.41018741223655, 105.28220130129077, 113.59916943106296, 114.82223211138708, 81.07809052462328, 85.05220429176221, 97.68000979160188, 92.96321865869908, 116.14298913793682, 84.36829169775339, 428.737675638275, 402.0384907966724, 373.8081226176142, 274.2233171138283, 268.03578591688796, 258.11947913240346, 252.78700608100877, 193.42543619096367, 166.20075405540297, 163.5458958041223, 133.73520036979076, 94.66850881990337, 75.09331272888892, 74.2347516089723, 72.155806634978, 68.12515519949717, 66.62691771953786, 66.01082251360924, 65.53170766862152, 56.51549909796344, 42.8262971472696, 42.215379695429476, 41.8406285567697, 37.61121848332556, 31.293783189365282, 24.1264691020201, 22.977977724232122, 19.540497148260357, 18.643898712660377, 17.23768782126261, 429.41996299677925, 108.25829789209833, 89.68885176747139, 609.2423141616097, 388.1565829428023, 299.47971930778004, 294.35641660185394, 196.82088608312958, 155.5958566778859, 151.0910788497521, 136.50476023835293, 105.19397144380213, 83.87253858250949, 68.73878330276891, 67.23754761435441, 59.664579684093255, 54.87427901382703, 53.762320480001385, 51.26159292388147, 43.116048901907334, 36.291727045165125, 34.01801950311338, 33.51117780639961, 32.75666081830146, 29.955798424021292, 27.463626524556815, 26.012896893547552, 25.254042009935162, 24.555340496208217, 22.92205885048126, 21.700165613028528, 18.022135564796216, 17.245338873728738, 296.1952769709455, 225.52217410206075, 198.82356220405845, 149.82938665478866, 119.88599194287262, 119.38895011111954, 91.34585152761923, 75.91867585998, 70.55586741480936, 70.42688234852176, 69.8666676156121, 66.87922933096112, 51.155019165574075, 38.09774614617161, 29.909664266652324, 27.13713049488467, 22.98966726809632, 15.238764803368662, 3.568823743197737, 30.472919040658482, 0.0370404362514739, 0.0370363696772077, 0.037034966422707385, 0.03703700925578947, 0.03703489323709853, 0.037034164562992924, 0.037034164562992924, 0.03703552963369731, 0.03703393864220036, 0.037035198707465945, 0.037035007788486306, 0.0370356378211191, 0.03703503006236727, 0.037035325986785696, 127.20556273627301, 96.02905496334213, 39.12814274979115, 29.47522430995918, 22.13042166999505, 21.314184888083645, 6.381386584495343, 0.02370956668625923, 0.023709279867477933, 0.023709390384806506, 0.023709642995843244, 0.023709416698456165, 0.023709106197390174, 0.023709040413266023, 0.023709193032434052, 0.023709190401069086, 0.023709050938725888, 0.023708932527302416, 0.02370889831955786, 0.023709185138339157, 0.023708895688192892, 0.023708795696324184, 0.023709350914332017, 0.02370880885314901, 0.023708814115878944, 0.023708772014039488, 0.02370882464133881, 0.02370889831955786, 0.02370889831955786, 0.023708753594484724, 0.023709364071156844, 0.02370995349690924, 0.023709179875609224, 0.023709000942791533, 0.02370897462914187, 0.023709187769704123, 0.02370901673098133, 0.02370891147638269, 36.4951838638651, 29.996811013151866, 21.813342500327433, 9.028812540928822, 3.4131856664085705, 2.82376713577191, 0.013489338387778754, 0.01348835292605062, 0.013487551239617732, 0.013487274244969824, 0.01348702787953779, 0.013486942650415357, 0.013486766865350339, 0.013486808148206518, 0.013486507182867926, 0.013486507182867926, 0.013486505851162888, 0.013486507182867926, 0.013486507182867926, 0.013486505851162888, 0.013486508514572964, 0.013486505851162888, 0.013486523163328382, 0.013486788172630947, 0.013486331397802908, 0.013486507182867926, 0.01348655112913418, 0.013486332729507946, 0.013486535148673724, 0.01348652449503342, 0.013487220976768305, 0.013486508514572964, 0.013486541807198915, 0.013486549797429142], \"Total\": [51876.0, 15424.0, 9980.0, 13565.0, 4921.0, 6673.0, 7768.0, 5947.0, 7927.0, 8838.0, 2517.0, 2430.0, 6227.0, 2594.0, 3932.0, 7821.0, 3493.0, 10375.0, 4845.0, 2042.0, 7899.0, 1791.0, 8727.0, 2647.0, 2226.0, 2663.0, 3304.0, 3236.0, 3383.0, 1633.0, 7821.449572641925, 4892.458373635671, 4431.051954976213, 3352.9386760978773, 3101.5778617509354, 2733.890654335073, 2564.512830138522, 2289.185550275283, 2206.437208577147, 2202.2248945879264, 2015.6461607396648, 1904.4844067677882, 1895.7962930812648, 1484.001976888856, 1414.8823299214191, 1401.348296255795, 1373.9113520584197, 1315.9573248272402, 1299.8949842627371, 1251.831672588037, 1242.1625841416583, 1058.165855877095, 1053.9520861657302, 959.9975044196805, 926.8234164083267, 882.3633961063767, 837.5106776666411, 834.7489907940159, 794.8935930586094, 781.6747261596481, 2078.63229049633, 4796.006651310399, 1724.9927001197782, 7899.977043862941, 6319.802873119609, 2625.937013903551, 5939.591916791482, 4690.387139635656, 8727.9916723071, 4163.188841568102, 3143.6289068072897, 3786.6536718676853, 2045.3742634375246, 2928.3765245072386, 8436.978111566406, 4311.783597407673, 4527.965862677133, 8838.040504612809, 6548.156394228631, 6373.557804934054, 7927.019781328794, 10375.563351909004, 4681.697249373598, 4290.0468371847255, 2704.855692414961, 3932.472418852159, 13565.627094401736, 5330.334628046018, 3817.1636423428495, 1516.1102981121353, 1318.4716419734762, 1310.5229669247942, 1303.8030317484956, 1236.1020738016123, 1202.4151621318197, 1110.1288171601695, 1054.5342940577614, 1029.1644145792854, 1018.1543582563253, 1001.0704943325219, 969.6062693017291, 928.6096978831248, 865.0450688902591, 836.7067117233655, 808.6738061583103, 799.4237607591318, 788.0226055511963, 778.4534486323665, 754.5336133403765, 734.2611701843297, 712.3218538281022, 711.6095326462445, 668.4994453884611, 666.4120247127047, 655.2658147724693, 652.7736045268148, 615.3506150848946, 612.0021192724577, 602.2956793086877, 895.0590314501646, 983.4314490182578, 1155.5369790228096, 2767.2366570698946, 2229.783410068533, 876.1774621018022, 3182.5772729960568, 1308.7623611967344, 2049.4709965731654, 2132.4969050354334, 1299.0705736174125, 1917.714780328006, 1455.9124318499241, 6128.434813143128, 1576.6179010550745, 2479.6534006616635, 2014.0621697040567, 2372.343994077315, 3194.4624666748696, 6227.59190873372, 1873.7402384205725, 2455.671544924948, 2001.4188370090042, 2816.729624883032, 3251.999895749714, 1874.3423257378224, 4120.112589017039, 1666.6370660771481, 2142.9336935703395, 4030.486832918043, 3474.412724143088, 3044.751541306643, 4041.164773877716, 2085.0302194166566, 3976.583227134982, 6673.526267963904, 5947.728913854828, 15424.916476020195, 9980.05890989948, 2170.6324186802794, 1302.4333888954377, 1068.575771353568, 840.8234205638697, 734.9632522862909, 734.7340202652607, 706.4329741160507, 673.1741928556996, 612.6693138596739, 576.394705372131, 573.1505397366296, 493.6747355084086, 480.79962912075104, 464.1318842414, 462.99809650798363, 435.3938882029012, 422.49554927403244, 379.1344754112385, 361.78783258740526, 358.8312895516723, 338.29151692181904, 330.9029602063285, 327.9987933475371, 298.0628796250456, 1830.7945644426502, 277.8977141179867, 3383.8329471461334, 2802.074644682459, 1385.5612629932186, 1691.0146123162585, 546.2491827658332, 1177.6997619812287, 1010.114943707034, 7768.159557410891, 686.0644404002634, 13565.627094401736, 670.5986199658051, 1461.441396852023, 2476.5331224019988, 1273.608098599458, 1218.498908220863, 4079.224645469474, 4030.486832918043, 1231.5358546365096, 5330.334628046018, 10375.563351909004, 4628.242975253084, 2818.8350431670165, 1482.984516593172, 3044.751541306643, 6373.557804934054, 4681.697249373598, 2407.730782104833, 1936.670309704193, 1473.4121526025665, 1470.156791389345, 1369.3516460177434, 1045.5276343132568, 1028.9308610210596, 971.3072061002583, 942.3860768584263, 906.63914295988, 848.0629138545377, 839.4796505554543, 810.7208659881683, 792.0255799131579, 775.8603145808269, 743.7535167327792, 697.1249289828944, 683.1199716386188, 655.9574408913243, 644.106563185857, 622.6169373494002, 553.2331028283412, 507.2237289660285, 490.7158625977218, 475.0142240809039, 464.43930726271867, 428.0784108098489, 415.0521216702555, 413.8226496311158, 413.12983510448447, 1061.7990881531525, 1550.4800726323956, 3493.0360329053383, 912.430885199207, 4845.736020636024, 956.31568983556, 1053.074276584714, 2025.254089125179, 3149.2537924022095, 6227.59190873372, 2087.0835219849187, 4176.569567003396, 2358.9235839904045, 1308.8004848960452, 4688.606971861072, 2145.439042859557, 2594.141865048353, 2663.4890716003033, 1263.884633424705, 951.7269723460067, 923.0176828378017, 902.2730846402906, 846.5039488155846, 840.8853824776152, 787.2994051271494, 730.4876540905498, 685.3428228318011, 598.8667245301975, 566.3712047324351, 418.3853275456551, 417.23319143921196, 406.65262856296164, 348.0470608321371, 324.8807804671498, 320.9569546080767, 304.4195587877985, 297.2668480558024, 292.5428937263238, 279.5230371896097, 271.1950972498841, 244.8064136422545, 227.5904105195167, 212.92816651052956, 212.43769289166502, 203.470961323416, 202.32223275296766, 189.77236783923433, 1880.778649519413, 661.4310419287959, 299.583883123366, 1621.6628870347606, 906.3622274867819, 447.9020434637811, 1395.1908045346042, 1636.3821580508686, 927.0841184659484, 3236.285170198252, 3304.7830963876377, 625.7994169754427, 2028.4682738219692, 978.4126949944039, 965.3538659727205, 1525.294856692879, 1579.6806339542559, 1310.6070620408652, 1177.5754631548566, 8838.040504612809, 7927.019781328794, 2252.8097806160454, 3024.2208773312695, 3474.412724143088, 51876.43485829328, 1892.2489003419548, 760.0159730905489, 562.5280410488748, 479.43437886972515, 418.9623427682991, 377.6319082931055, 371.61927415551077, 240.5369046880728, 239.69688464060388, 208.94501287304487, 198.68831178211892, 198.67377043322028, 197.93199160430882, 196.99399471002755, 177.98733177296114, 162.99302011382335, 160.50668479680283, 156.49894025716745, 154.75788463894375, 147.55134317359, 135.57667542555703, 130.7790379044331, 126.44358713622069, 118.56766394043137, 111.18702777563533, 95.5525187689933, 87.60856642515333, 76.89867705888769, 59.37886766424329, 2209.8246247776024, 1643.7327712787062, 1574.9070600924738, 1121.5554691171828, 847.7789886875956, 670.9788318921441, 666.389096703973, 612.6280497119616, 545.9891706244157, 531.9576698056827, 511.13756188611455, 476.4252168338925, 461.6182253313006, 431.7270855784866, 414.8691932270611, 399.12131240935344, 378.4881296108638, 374.44507557578385, 369.30355300264847, 369.0823758421684, 367.22408453831304, 354.1043550074219, 352.9643923095916, 272.7680248976449, 270.40957223208795, 249.90964712356282, 248.37137742421305, 246.47255939226798, 244.4611371400935, 243.70658170697345, 4921.804110593456, 1008.4163540588045, 597.8221512325586, 517.2059975505808, 421.5297684484065, 774.582878648389, 691.4222520402225, 981.2514603174474, 2263.059853749504, 571.9054404913139, 1319.5707690367014, 3149.2537924022095, 3976.583227134982, 1417.9051637831676, 892.2071873477954, 2186.010442942702, 779.8096453339174, 691.1391200644624, 592.198312720142, 518.6171036542241, 485.2554189420098, 455.80202609717816, 410.985569356498, 399.2215085217929, 346.1548055257232, 343.3455015047829, 342.1501572220599, 321.0410174958876, 309.26079123028575, 307.7359386594578, 286.3910396373817, 273.8369661867926, 265.127038449336, 234.2278491684199, 229.0743694898368, 227.39493130668072, 223.44710161592596, 209.28053788134727, 205.9316930374244, 204.53517194962066, 193.24611405000195, 193.0590047843385, 192.91625311331433, 192.033900537591, 191.57999886576928, 190.91016720275618, 2226.8762395658878, 401.3269048596274, 1682.2427774999142, 1897.5008634613894, 477.7854892067177, 915.4666286833972, 2647.2776699270266, 489.0635544560074, 338.9373194226061, 533.5884386536611, 600.3245606917598, 3932.472418852159, 621.0947735370231, 2018.2031996755925, 7927.019781328794, 1640.3802311834256, 709.0996623651768, 3194.4624666748696, 2517.246709078711, 752.2639229300562, 723.0716485157399, 548.532971231059, 509.06589629384524, 417.9501814518177, 416.41695647367715, 415.32519337760345, 401.54662764433607, 353.74736256105797, 344.3227582358698, 215.85385865655186, 195.85121862016894, 193.8551817702889, 183.73019109613344, 178.64359557766053, 175.5892600470072, 173.32230431042424, 171.77103631300113, 149.9973226675224, 149.3902869104098, 139.0468099193226, 132.0942995221653, 127.47086716441167, 93.37503160975491, 88.35814917198904, 80.61941551055983, 78.32748571519826, 71.55318615302184, 69.98976104307619, 553.2326993832849, 1507.9596778642963, 709.0996623651768, 1155.9834332565863, 207.88018833837214, 2087.0835219849187, 1308.8004848960452, 4845.736020636024, 1682.2427774999142, 2042.2469468931479, 1633.3981055804993, 513.1660194667454, 341.84672725657856, 332.0782729815586, 293.64204363153306, 229.30939414488296, 219.63105202227143, 214.62233128957936, 195.68829237113266, 194.47957296570704, 182.9934303124271, 173.6412735739192, 169.52086200654253, 164.529752893596, 151.81330561617648, 149.87299709239372, 140.97582946386132, 139.81816029221514, 135.4287926234784, 117.20575963077042, 114.4128617397048, 106.48306207197857, 98.7598874907685, 97.54385237547838, 90.23402887916967, 78.54623651341234, 76.75136676381341, 68.66954069840546, 207.07632300170062, 351.5692001162548, 516.0284569819631, 512.2446094046901, 534.1753217103329, 340.68937420747346, 580.4592159486787, 752.9272792301472, 869.7292555454666, 3493.0360329053383, 1309.4264228875384, 839.2064279012009, 409.9382443807035, 428.08845850812804, 1791.4812265394587, 589.9952938698709, 478.6083056182955, 379.3381611530556, 369.9820083304101, 302.24866206887594, 286.3952670624729, 269.24203674281415, 247.3191472253112, 246.14633050471537, 222.3838642480767, 213.82060625205693, 207.35774928286193, 197.64220237700135, 191.3411161192071, 163.9457711817889, 162.586387042346, 159.38972739928695, 157.99934312898694, 154.3837405120526, 147.52048398997883, 141.97187081453248, 141.46381306685393, 131.05046439039614, 124.92764932916924, 115.42150724009352, 112.61590038928753, 98.37141588974164, 97.62372044959758, 95.63098591239124, 223.79857608372816, 829.836182026048, 146.06652212328936, 251.98261576492212, 463.95230595434737, 1341.2446549442939, 1308.8004848960452, 671.9280786557657, 927.0841184659484, 461.6636548953975, 2594.141865048353, 2430.407592735875, 1085.071383201521, 1043.9078265429234, 666.9128484153979, 603.1654610764077, 390.7713649047409, 345.12197468274127, 316.19230593068295, 306.639771025467, 278.1558280717686, 172.09654617143278, 160.64485765973322, 115.22413900573541, 89.76573436487699, 87.43314753179273, 77.46923239604273, 62.82112161289974, 50.826325593814616, 50.58816982574466, 44.759284858228625, 43.67158509557655, 43.07287695617679, 24.25114901499329, 20.329750800912997, 13.150926694355277, 8.584627675872955, 8.389636112169699, 8.250713133282469, 4.208041782264337, 203.157203307347, 487.73154873439364, 2594.141865048353, 858.7693742892765, 845.8285699286029, 743.4349208335104, 1873.7402384205725, 745.1974380006575, 681.354077491569, 1273.608098599458, 535.3655310064701, 455.7000738755264, 1126.9264952990286, 619.3025725452324, 599.1382485777914, 391.0917899757251, 369.16370344176994, 310.24924611275287, 305.7310903303154, 283.2099110639428, 255.38264853249225, 240.78679155601856, 169.14955719771592, 165.50517843414477, 161.29612025413368, 141.0064505741385, 138.4451324632375, 127.71041876946263, 123.69195602303229, 120.84331792655772, 113.20163749999801, 109.67088452726071, 102.21659937059769, 98.93943336343597, 83.68513696392532, 82.52038260873144, 79.10451608843518, 78.949129154256, 71.28817862352433, 68.65659599696204, 68.23811175254734, 66.36841898153894, 63.61276509586596, 504.0194908384386, 755.4836231228173, 349.6702325585139, 610.1577463395282, 151.7353709623578, 1309.4264228875384, 235.9865280967489, 351.6540600912704, 392.5497974599931, 480.5216473343051, 934.3757247460749, 475.60544428302006, 348.2280651684486, 1193.6188980295476, 1096.1908204837066, 520.9836556526975, 511.5431374663355, 398.91587095981805, 367.0326824807097, 320.90129335820393, 310.09318144945917, 304.72249039189546, 251.84872966825534, 224.91297577335428, 210.74889013140296, 186.31729926769114, 185.43616722238667, 181.20905148318087, 176.48762471038015, 157.08323713567148, 107.98874987342157, 104.07414634209862, 93.55013350636321, 93.3076594839829, 93.18250322838362, 86.12198654752741, 84.62017630486969, 74.00954015893879, 53.775576116531795, 53.143551074797536, 52.263381280533125, 51.14132129594767, 44.796422967797916, 44.172560799548506, 593.1993808804783, 325.6134319165515, 191.62646933732603, 681.354077491569, 743.4349208335104, 432.2199251999076, 535.4601199018406, 431.67043111500067, 363.90580117657015, 293.53112638809654, 239.41129665046617, 238.41302593787455, 201.2947878891179, 156.04275210969035, 151.23902417722925, 148.08532171165396, 147.22845370986605, 132.64517008741512, 106.92214334194178, 98.24753650594543, 97.84587637867037, 78.69253614215029, 67.35913638493503, 66.94159556971441, 66.44972249519851, 64.67905795037127, 64.63134287557797, 64.58466599233111, 64.51213866128185, 64.51213866128185, 64.51213866128185, 59.46717465884063, 56.04524839634925, 55.85872344491707, 44.482439581617655, 39.334718197920495, 176.51372631357884, 610.1577463395282, 585.2355493821839, 1395.1908045346042, 680.611478447927, 368.2535545878342, 512.2446094046901, 570.670247218627, 173.78138558410956, 307.0150886983581, 799.5871248878015, 857.2093951419034, 7927.019781328794, 781.1254026162661, 429.94517305672525, 403.2459882151227, 375.01562003606443, 275.43081453227853, 269.2432833353382, 259.3269765508537, 253.99450349945906, 194.63293363627844, 167.4082514833157, 164.7533932493079, 134.94269779593535, 95.87600623835364, 76.3008101625569, 75.44224907124917, 73.36330405342828, 69.33265261794745, 67.83441513798813, 67.21831993205952, 66.73920509928732, 57.722996524634965, 44.03379456571987, 43.42287711387975, 43.048125979291186, 38.818715916963576, 32.501280615309, 25.33396652454158, 24.18547514778321, 20.747994600116073, 19.85139613111065, 18.445185244807654, 535.3655310064701, 593.1993808804783, 743.4349208335104, 610.4516836715353, 389.3659524602213, 300.6890888307654, 295.5657861117795, 198.0302555930552, 156.8052261878115, 152.3004484124692, 137.71412977083054, 106.40334095372772, 85.08190810237365, 69.94815281676571, 68.44691712880123, 60.8739491988022, 56.08364852827385, 54.971689997630186, 52.4709624379177, 44.325418416354154, 37.501096555090726, 35.22738901303898, 34.720547356919695, 33.96603032822706, 31.165167933946893, 28.672996034482416, 27.222266403473153, 26.463411571377613, 25.76471001024444, 24.13142836040686, 22.909535161043884, 19.231505074721817, 18.454708402882922, 297.41655062620464, 226.74344776636235, 200.0448359401268, 151.05066031456906, 121.107265602203, 120.61022377387216, 92.56712520452203, 77.13994951931038, 71.77714110189861, 71.64815604733634, 71.08794128003726, 68.10050298622029, 52.37629282083325, 39.31901981150514, 31.130937930503926, 28.358404188042726, 24.21094092335549, 16.46003849110939, 4.7900973984569095, 79.25268276900437, 1.25845174565683, 1.2583352620816626, 1.2583221727047815, 1.2584019321443687, 1.2583318854321066, 1.2583096483375211, 1.258310328413108, 1.2583595118420279, 1.2583115419986908, 1.2583584285727385, 1.258355007582522, 1.2583925463119583, 1.2583598581655107, 1.2584301124465238, 128.44015990912192, 97.26365214030167, 40.36273992671128, 30.709821482808096, 23.365018889974497, 22.54878206093256, 7.615983757344255, 1.2583105698642298, 1.258310097901087, 1.2583169261740208, 1.2583324528451296, 1.2583205376019566, 1.2583101340015626, 1.2583092720725157, 1.2583177795429217, 1.258321417321442, 1.25831434559353, 1.2583084351290843, 1.2583083506859105, 1.258323840411603, 1.2583101343060346, 1.258307134798069, 1.2583368935216854, 1.2583084323243936, 1.2583093287051619, 1.258307131629866, 1.2583100060719694, 1.2583156911263935, 1.258317614195069, 1.258310850551966, 1.258344282486878, 1.2584019321443687, 1.2583439384717905, 1.2583288398943429, 1.2583275263518097, 1.2583595118420279, 1.2583501138613822, 1.2583882691026114, 37.740003247894826, 31.241630443862114, 23.058161902050035, 10.273631920437328, 4.6580050459170765, 4.068587161453896, 1.2584328566318466, 1.2583600872063938, 1.2583430498512078, 1.2583464574941177, 1.258326148052638, 1.258320631086815, 1.2583163974318659, 1.2583254820981504, 1.2583130921972738, 1.2583133743343646, 1.258314060275578, 1.2583144600189962, 1.2583170334299683, 1.2583189011422675, 1.2583196925526257, 1.2583197209041896, 1.258321531276753, 1.258347087074291, 1.2583079806898732, 1.2583245428046101, 1.2583297728601135, 1.2583098404354662, 1.2583317503927294, 1.2583314978745996, 1.2584118848748072, 1.258334903521907, 1.2583447523229547, 1.258364521927428], \"Category\": [\"Default\", \"Default\", \"Default\", \"Default\", \"Default\", \"Default\", \"Default\", \"Default\", \"Default\", \"Default\", \"Default\", \"Default\", \"Default\", \"Default\", \"Default\", \"Default\", \"Default\", \"Default\", \"Default\", \"Default\", \"Default\", \"Default\", \"Default\", \"Default\", \"Default\", \"Default\", \"Default\", \"Default\", \"Default\", \"Default\", \"Topic1\", \"Topic1\", \"Topic1\", \"Topic1\", \"Topic1\", \"Topic1\", \"Topic1\", \"Topic1\", \"Topic1\", \"Topic1\", \"Topic1\", \"Topic1\", \"Topic1\", \"Topic1\", \"Topic1\", \"Topic1\", \"Topic1\", \"Topic1\", \"Topic1\", \"Topic1\", \"Topic1\", \"Topic1\", \"Topic1\", \"Topic1\", \"Topic1\", \"Topic1\", \"Topic1\", \"Topic1\", \"Topic1\", \"Topic1\", \"Topic1\", \"Topic1\", \"Topic1\", \"Topic1\", \"Topic1\", \"Topic1\", \"Topic1\", \"Topic1\", \"Topic1\", \"Topic1\", \"Topic1\", \"Topic1\", \"Topic1\", \"Topic1\", \"Topic1\", \"Topic1\", \"Topic1\", \"Topic1\", \"Topic1\", \"Topic1\", \"Topic1\", \"Topic1\", \"Topic1\", \"Topic1\", \"Topic1\", \"Topic1\", \"Topic1\", \"Topic1\", \"Topic1\", \"Topic2\", \"Topic2\", \"Topic2\", \"Topic2\", \"Topic2\", \"Topic2\", \"Topic2\", \"Topic2\", \"Topic2\", \"Topic2\", \"Topic2\", \"Topic2\", \"Topic2\", \"Topic2\", \"Topic2\", \"Topic2\", \"Topic2\", \"Topic2\", \"Topic2\", \"Topic2\", \"Topic2\", \"Topic2\", \"Topic2\", \"Topic2\", \"Topic2\", \"Topic2\", \"Topic2\", \"Topic2\", \"Topic2\", \"Topic2\", \"Topic2\", \"Topic2\", \"Topic2\", \"Topic2\", \"Topic2\", \"Topic2\", \"Topic2\", \"Topic2\", \"Topic2\", \"Topic2\", \"Topic2\", \"Topic2\", \"Topic2\", \"Topic2\", \"Topic2\", \"Topic2\", \"Topic2\", \"Topic2\", \"Topic2\", \"Topic2\", \"Topic2\", \"Topic2\", \"Topic2\", \"Topic2\", \"Topic2\", \"Topic2\", \"Topic2\", \"Topic2\", \"Topic2\", \"Topic2\", \"Topic2\", \"Topic2\", \"Topic2\", \"Topic2\", \"Topic2\", \"Topic3\", \"Topic3\", \"Topic3\", \"Topic3\", \"Topic3\", \"Topic3\", \"Topic3\", \"Topic3\", \"Topic3\", \"Topic3\", \"Topic3\", \"Topic3\", \"Topic3\", \"Topic3\", \"Topic3\", \"Topic3\", \"Topic3\", \"Topic3\", \"Topic3\", \"Topic3\", \"Topic3\", \"Topic3\", \"Topic3\", \"Topic3\", \"Topic3\", \"Topic3\", \"Topic3\", \"Topic3\", \"Topic3\", \"Topic3\", \"Topic3\", \"Topic3\", \"Topic3\", \"Topic3\", \"Topic3\", \"Topic3\", \"Topic3\", \"Topic3\", \"Topic3\", \"Topic3\", \"Topic3\", \"Topic3\", \"Topic3\", \"Topic3\", \"Topic3\", \"Topic3\", \"Topic3\", \"Topic3\", \"Topic3\", \"Topic3\", \"Topic3\", \"Topic3\", \"Topic3\", \"Topic3\", \"Topic3\", \"Topic3\", \"Topic4\", \"Topic4\", \"Topic4\", \"Topic4\", \"Topic4\", \"Topic4\", \"Topic4\", \"Topic4\", \"Topic4\", \"Topic4\", \"Topic4\", \"Topic4\", \"Topic4\", \"Topic4\", \"Topic4\", \"Topic4\", \"Topic4\", \"Topic4\", \"Topic4\", \"Topic4\", \"Topic4\", \"Topic4\", \"Topic4\", \"Topic4\", \"Topic4\", \"Topic4\", \"Topic4\", \"Topic4\", \"Topic4\", \"Topic4\", \"Topic4\", \"Topic4\", \"Topic4\", \"Topic4\", \"Topic4\", \"Topic4\", \"Topic4\", \"Topic4\", \"Topic4\", \"Topic4\", \"Topic4\", \"Topic4\", \"Topic4\", \"Topic4\", \"Topic4\", \"Topic4\", \"Topic4\", \"Topic5\", \"Topic5\", \"Topic5\", \"Topic5\", \"Topic5\", \"Topic5\", \"Topic5\", \"Topic5\", \"Topic5\", \"Topic5\", \"Topic5\", \"Topic5\", \"Topic5\", \"Topic5\", \"Topic5\", \"Topic5\", \"Topic5\", \"Topic5\", \"Topic5\", \"Topic5\", \"Topic5\", \"Topic5\", \"Topic5\", \"Topic5\", \"Topic5\", \"Topic5\", \"Topic5\", \"Topic5\", \"Topic5\", \"Topic5\", \"Topic5\", \"Topic5\", \"Topic5\", \"Topic5\", \"Topic5\", \"Topic5\", \"Topic5\", \"Topic5\", \"Topic5\", \"Topic5\", \"Topic5\", \"Topic5\", \"Topic5\", \"Topic5\", \"Topic5\", \"Topic5\", \"Topic5\", \"Topic5\", \"Topic5\", \"Topic5\", \"Topic5\", \"Topic5\", \"Topic5\", \"Topic5\", \"Topic6\", \"Topic6\", \"Topic6\", \"Topic6\", \"Topic6\", \"Topic6\", \"Topic6\", \"Topic6\", \"Topic6\", \"Topic6\", \"Topic6\", \"Topic6\", \"Topic6\", \"Topic6\", \"Topic6\", \"Topic6\", \"Topic6\", \"Topic6\", \"Topic6\", \"Topic6\", \"Topic6\", \"Topic6\", \"Topic6\", \"Topic6\", \"Topic6\", \"Topic6\", \"Topic6\", \"Topic6\", \"Topic6\", \"Topic6\", \"Topic7\", \"Topic7\", \"Topic7\", \"Topic7\", \"Topic7\", \"Topic7\", \"Topic7\", \"Topic7\", \"Topic7\", \"Topic7\", \"Topic7\", \"Topic7\", \"Topic7\", \"Topic7\", \"Topic7\", \"Topic7\", \"Topic7\", \"Topic7\", \"Topic7\", \"Topic7\", \"Topic7\", \"Topic7\", \"Topic7\", \"Topic7\", \"Topic7\", \"Topic7\", \"Topic7\", \"Topic7\", \"Topic7\", \"Topic7\", \"Topic7\", \"Topic7\", \"Topic7\", \"Topic7\", \"Topic7\", \"Topic7\", \"Topic7\", \"Topic7\", \"Topic7\", \"Topic7\", \"Topic7\", \"Topic7\", \"Topic7\", \"Topic7\", \"Topic7\", \"Topic7\", \"Topic8\", \"Topic8\", \"Topic8\", \"Topic8\", \"Topic8\", \"Topic8\", \"Topic8\", \"Topic8\", \"Topic8\", \"Topic8\", \"Topic8\", \"Topic8\", \"Topic8\", \"Topic8\", \"Topic8\", \"Topic8\", \"Topic8\", \"Topic8\", \"Topic8\", \"Topic8\", \"Topic8\", \"Topic8\", \"Topic8\", \"Topic8\", \"Topic8\", \"Topic8\", \"Topic8\", \"Topic8\", \"Topic8\", \"Topic8\", \"Topic8\", \"Topic8\", \"Topic8\", \"Topic8\", \"Topic8\", \"Topic8\", \"Topic8\", \"Topic8\", \"Topic8\", \"Topic8\", \"Topic8\", \"Topic8\", \"Topic8\", \"Topic8\", \"Topic8\", \"Topic8\", \"Topic8\", \"Topic8\", \"Topic9\", \"Topic9\", \"Topic9\", \"Topic9\", \"Topic9\", \"Topic9\", \"Topic9\", \"Topic9\", \"Topic9\", \"Topic9\", \"Topic9\", \"Topic9\", \"Topic9\", \"Topic9\", \"Topic9\", \"Topic9\", \"Topic9\", \"Topic9\", \"Topic9\", \"Topic9\", \"Topic9\", \"Topic9\", \"Topic9\", \"Topic9\", \"Topic9\", \"Topic9\", \"Topic9\", \"Topic9\", \"Topic9\", \"Topic9\", \"Topic9\", \"Topic9\", \"Topic9\", \"Topic9\", \"Topic9\", \"Topic9\", \"Topic9\", \"Topic9\", \"Topic9\", \"Topic10\", \"Topic10\", \"Topic10\", \"Topic10\", \"Topic10\", \"Topic10\", \"Topic10\", \"Topic10\", \"Topic10\", \"Topic10\", \"Topic10\", \"Topic10\", \"Topic10\", \"Topic10\", \"Topic10\", \"Topic10\", \"Topic10\", \"Topic10\", \"Topic10\", \"Topic10\", \"Topic10\", \"Topic10\", \"Topic10\", \"Topic10\", \"Topic10\", \"Topic10\", \"Topic10\", \"Topic10\", \"Topic10\", \"Topic10\", \"Topic10\", \"Topic10\", \"Topic10\", \"Topic10\", \"Topic10\", \"Topic10\", \"Topic10\", \"Topic10\", \"Topic10\", \"Topic10\", \"Topic10\", \"Topic10\", \"Topic10\", \"Topic11\", \"Topic11\", \"Topic11\", \"Topic11\", \"Topic11\", \"Topic11\", \"Topic11\", \"Topic11\", \"Topic11\", \"Topic11\", \"Topic11\", \"Topic11\", \"Topic11\", \"Topic11\", \"Topic11\", \"Topic11\", \"Topic11\", \"Topic11\", \"Topic11\", \"Topic11\", \"Topic11\", \"Topic11\", \"Topic11\", \"Topic11\", \"Topic11\", \"Topic11\", \"Topic11\", \"Topic11\", \"Topic11\", \"Topic11\", \"Topic11\", \"Topic11\", \"Topic11\", \"Topic11\", \"Topic11\", \"Topic11\", \"Topic11\", \"Topic11\", \"Topic11\", \"Topic11\", \"Topic11\", \"Topic12\", \"Topic12\", \"Topic12\", \"Topic12\", \"Topic12\", \"Topic12\", \"Topic12\", \"Topic12\", \"Topic12\", \"Topic12\", \"Topic12\", \"Topic12\", \"Topic12\", \"Topic12\", \"Topic12\", \"Topic12\", \"Topic12\", \"Topic12\", \"Topic12\", \"Topic12\", \"Topic12\", \"Topic12\", \"Topic12\", \"Topic12\", \"Topic12\", \"Topic12\", \"Topic12\", \"Topic12\", \"Topic12\", \"Topic12\", \"Topic12\", \"Topic12\", \"Topic12\", \"Topic12\", \"Topic12\", \"Topic12\", \"Topic12\", \"Topic12\", \"Topic12\", \"Topic12\", \"Topic12\", \"Topic12\", \"Topic13\", \"Topic13\", \"Topic13\", \"Topic13\", \"Topic13\", \"Topic13\", \"Topic13\", \"Topic13\", \"Topic13\", \"Topic13\", \"Topic13\", \"Topic13\", \"Topic13\", \"Topic13\", \"Topic13\", \"Topic13\", \"Topic13\", \"Topic13\", \"Topic13\", \"Topic13\", \"Topic13\", \"Topic13\", \"Topic13\", \"Topic13\", \"Topic13\", \"Topic13\", \"Topic13\", \"Topic13\", \"Topic13\", \"Topic13\", \"Topic13\", \"Topic13\", \"Topic13\", \"Topic13\", \"Topic13\", \"Topic13\", \"Topic13\", \"Topic13\", \"Topic13\", \"Topic13\", \"Topic13\", \"Topic13\", \"Topic13\", \"Topic13\", \"Topic14\", \"Topic14\", \"Topic14\", \"Topic14\", \"Topic14\", \"Topic14\", \"Topic14\", \"Topic14\", \"Topic14\", \"Topic14\", \"Topic14\", \"Topic14\", \"Topic14\", \"Topic14\", \"Topic14\", \"Topic14\", \"Topic14\", \"Topic14\", \"Topic14\", \"Topic14\", \"Topic14\", \"Topic14\", \"Topic14\", \"Topic14\", \"Topic14\", \"Topic14\", \"Topic14\", \"Topic14\", \"Topic14\", \"Topic14\", \"Topic14\", \"Topic14\", \"Topic14\", \"Topic14\", \"Topic14\", \"Topic14\", \"Topic15\", \"Topic15\", \"Topic15\", \"Topic15\", \"Topic15\", \"Topic15\", \"Topic15\", \"Topic15\", \"Topic15\", \"Topic15\", \"Topic15\", \"Topic15\", \"Topic15\", \"Topic15\", \"Topic15\", \"Topic15\", \"Topic15\", \"Topic15\", \"Topic15\", \"Topic15\", \"Topic15\", \"Topic15\", \"Topic15\", \"Topic15\", \"Topic15\", \"Topic15\", \"Topic15\", \"Topic15\", \"Topic15\", \"Topic15\", \"Topic15\", \"Topic15\", \"Topic15\", \"Topic15\", \"Topic15\", \"Topic15\", \"Topic15\", \"Topic15\", \"Topic15\", \"Topic15\", \"Topic15\", \"Topic15\", \"Topic15\", \"Topic15\", \"Topic16\", \"Topic16\", \"Topic16\", \"Topic16\", \"Topic16\", \"Topic16\", \"Topic16\", \"Topic16\", \"Topic16\", \"Topic16\", \"Topic16\", \"Topic16\", \"Topic16\", \"Topic16\", \"Topic16\", \"Topic16\", \"Topic16\", \"Topic16\", \"Topic16\", \"Topic16\", \"Topic16\", \"Topic16\", \"Topic16\", \"Topic16\", \"Topic16\", \"Topic16\", \"Topic16\", \"Topic16\", \"Topic16\", \"Topic16\", \"Topic16\", \"Topic16\", \"Topic16\", \"Topic17\", \"Topic17\", \"Topic17\", \"Topic17\", \"Topic17\", \"Topic17\", \"Topic17\", \"Topic17\", \"Topic17\", \"Topic17\", \"Topic17\", \"Topic17\", \"Topic17\", \"Topic17\", \"Topic17\", \"Topic17\", \"Topic17\", \"Topic17\", \"Topic17\", \"Topic17\", \"Topic17\", \"Topic17\", \"Topic17\", \"Topic17\", \"Topic17\", \"Topic17\", \"Topic17\", \"Topic17\", \"Topic17\", \"Topic17\", \"Topic18\", \"Topic18\", \"Topic18\", \"Topic18\", \"Topic18\", \"Topic18\", \"Topic18\", \"Topic18\", \"Topic18\", \"Topic18\", \"Topic18\", \"Topic18\", \"Topic18\", \"Topic18\", \"Topic18\", \"Topic18\", \"Topic18\", \"Topic18\", \"Topic18\", \"Topic18\", \"Topic18\", \"Topic18\", \"Topic18\", \"Topic18\", \"Topic18\", \"Topic18\", \"Topic18\", \"Topic18\", \"Topic18\", \"Topic18\", \"Topic18\", \"Topic18\", \"Topic18\", \"Topic18\", \"Topic19\", \"Topic19\", \"Topic19\", \"Topic19\", \"Topic19\", \"Topic19\", \"Topic19\", \"Topic19\", \"Topic19\", \"Topic19\", \"Topic19\", \"Topic19\", \"Topic19\", \"Topic19\", \"Topic19\", \"Topic19\", \"Topic19\", \"Topic19\", \"Topic19\", \"Topic19\", \"Topic19\", \"Topic19\", \"Topic19\", \"Topic19\", \"Topic19\", \"Topic19\", \"Topic19\", \"Topic19\", \"Topic19\", \"Topic19\", \"Topic19\", \"Topic19\", \"Topic19\", \"Topic19\", \"Topic19\", \"Topic19\", \"Topic19\", \"Topic19\", \"Topic20\", \"Topic20\", \"Topic20\", \"Topic20\", \"Topic20\", \"Topic20\", \"Topic20\", \"Topic20\", \"Topic20\", \"Topic20\", \"Topic20\", \"Topic20\", \"Topic20\", \"Topic20\", \"Topic20\", \"Topic20\", \"Topic20\", \"Topic20\", \"Topic20\", \"Topic20\", \"Topic20\", \"Topic20\", \"Topic20\", \"Topic20\", \"Topic20\", \"Topic20\", \"Topic20\", \"Topic20\", \"Topic20\", \"Topic20\", \"Topic20\", \"Topic20\", \"Topic20\", \"Topic20\"], \"logprob\": [30.0, 29.0, 28.0, 27.0, 26.0, 25.0, 24.0, 23.0, 22.0, 21.0, 20.0, 19.0, 18.0, 17.0, 16.0, 15.0, 14.0, 13.0, 12.0, 11.0, 10.0, 9.0, 8.0, 7.0, 6.0, 5.0, 4.0, 3.0, 2.0, 1.0, -3.9114, -4.3807, -4.4797, -4.7586, -4.8366, -4.9628, -5.0268, -5.1404, -5.1773, -5.1792, -5.2678, -5.3245, -5.3291, -5.5742, -5.6219, -5.6315, -5.6513, -5.6944, -5.7067, -5.7445, -5.7522, -5.9127, -5.9167, -6.0102, -6.0454, -6.0946, -6.1469, -6.1502, -6.1992, -6.2159, -5.2408, -4.4139, -5.4313, -3.9321, -4.1544, -5.0155, -4.2198, -4.4624, -3.8742, -4.5864, -4.857, -4.6792, -5.2747, -4.9462, -3.9809, -4.6184, -4.5746, -3.9814, -4.2952, -4.3506, -4.2375, -4.0494, -4.687, -4.7603, -5.0672, -4.9227, -4.4888, -4.8456, -4.9849, -5.1857, -5.3255, -5.3316, -5.3367, -5.3901, -5.4177, -5.4977, -5.5491, -5.5735, -5.5843, -5.6012, -5.6332, -5.6764, -5.7474, -5.7808, -5.8149, -5.8264, -5.8408, -5.853, -5.8843, -5.9116, -5.942, -5.943, -6.0056, -6.0087, -6.0256, -6.0294, -6.0886, -6.094, -6.1101, -5.7155, -5.6225, -5.4657, -4.6271, -4.8688, -5.7541, -4.557, -5.3847, -5.0033, -4.9723, -5.4112, -5.0728, -5.3148, -4.151, -5.2652, -4.8989, -5.0786, -4.9521, -4.7241, -4.3104, -5.1755, -4.9914, -5.1516, -4.9538, -4.8721, -5.2186, -4.87, -5.3032, -5.2096, -4.9722, -5.0859, -5.1285, -5.1805, -5.2933, -5.3089, -3.0966, -3.2117, -2.2591, -2.6945, -4.2201, -4.7312, -4.9293, -5.1693, -5.3041, -5.3044, -5.3438, -5.3921, -5.4864, -5.5476, -5.5532, -5.7028, -5.7293, -5.7647, -5.7672, -5.8288, -5.859, -5.9676, -6.0145, -6.0228, -6.0819, -6.1041, -6.1129, -6.209, -4.3938, -6.2794, -3.789, -4.0156, -4.7256, -4.5479, -5.6238, -4.8943, -5.0454, -3.1377, -5.4162, -2.7797, -5.4538, -4.82, -4.4072, -5.0011, -5.08, -4.3177, -4.3367, -5.078, -4.199, -3.838, -4.3082, -4.5995, -4.9865, -4.6663, -4.7373, -4.9444, -3.5925, -3.8104, -4.084, -4.0862, -4.1573, -4.4273, -4.4434, -4.5011, -4.5313, -4.57, -4.6369, -4.6471, -4.682, -4.7054, -4.726, -4.7684, -4.8332, -4.8535, -4.8942, -4.9125, -4.9465, -5.0648, -5.1519, -5.185, -5.2176, -5.2402, -5.3219, -5.3529, -5.3559, -5.3576, -4.4247, -4.1007, -3.3307, -4.6242, -3.3581, -4.6593, -4.6014, -4.1352, -3.8217, -3.5625, -4.2487, -3.9543, -4.262, -4.6022, -4.3035, -4.5581, -4.5633, -3.3971, -4.143, -4.427, -4.4576, -4.4804, -4.5443, -4.551, -4.6169, -4.6919, -4.7558, -4.891, -4.9469, -5.2505, -5.2532, -5.279, -5.4351, -5.5042, -5.5164, -5.5695, -5.5934, -5.6095, -5.6552, -5.6856, -5.7884, -5.8617, -5.9287, -5.931, -5.9744, -5.9801, -6.0445, -3.8324, -4.8436, -5.6063, -4.0559, -4.6561, -5.2781, -4.3056, -4.1705, -4.6733, -3.662, -3.6986, -5.0615, -4.2516, -4.7823, -4.8038, -4.5862, -4.5737, -4.7067, -4.7822, -3.9407, -4.0581, -4.6682, -4.6161, -4.8261, -0.2539, -3.5656, -4.4786, -4.78, -4.9402, -5.0754, -5.1795, -5.1956, -5.6323, -5.6358, -5.7738, -5.8244, -5.8245, -5.8282, -5.833, -5.9351, -6.0237, -6.0391, -6.0646, -6.0759, -6.1239, -6.2092, -6.2456, -6.2796, -6.3445, -6.4094, -6.5626, -6.6505, -6.7827, -7.0456, -3.2631, -3.5592, -3.602, -3.9418, -4.222, -4.4563, -4.4631, -4.5474, -4.6628, -4.6889, -4.7289, -4.7994, -4.8311, -4.8982, -4.9381, -4.9769, -5.0302, -5.041, -5.0548, -5.0554, -5.0605, -5.097, -5.1002, -5.359, -5.3677, -5.4469, -5.4531, -5.4608, -5.469, -5.4721, -2.5097, -4.1113, -4.616, -4.7938, -4.989, -4.4634, -4.5828, -4.2955, -3.8111, -4.7766, -4.3453, -3.8689, -4.1875, -4.6206, -4.7857, -4.8827, -3.9897, -4.1106, -4.2654, -4.3983, -4.465, -4.5277, -4.6315, -4.6607, -4.8037, -4.8119, -4.8154, -4.8793, -4.9169, -4.9218, -4.994, -5.039, -5.0715, -5.196, -5.2183, -5.2257, -5.2433, -5.3092, -5.3254, -5.3323, -5.3894, -5.3904, -5.3911, -5.3957, -5.3981, -5.4016, -2.9461, -4.6686, -3.3119, -3.3788, -4.5987, -4.0418, -3.2262, -4.6578, -4.9586, -4.6665, -4.6315, -3.6563, -4.7244, -4.3696, -3.9735, -4.5329, -4.8153, -4.6004, -1.9896, -3.1985, -3.2382, -3.515, -3.5898, -3.7875, -3.7912, -3.7938, -3.8277, -3.9548, -3.9819, -4.451, -4.5488, -4.5591, -4.6131, -4.6414, -4.6587, -4.6718, -4.6809, -4.8174, -4.8215, -4.8939, -4.9456, -4.9816, -5.2963, -5.3523, -5.4452, -5.4745, -5.5665, -5.5889, -3.5809, -3.1614, -3.9147, -3.9184, -4.9299, -3.9041, -4.4304, -4.1534, -4.8249, -2.1813, -2.4048, -3.5642, -3.9716, -4.0007, -4.1242, -4.3726, -4.416, -4.4392, -4.5321, -4.5383, -4.5996, -4.6524, -4.6766, -4.7067, -4.7877, -4.8007, -4.8624, -4.8707, -4.9029, -5.0488, -5.0731, -5.1458, -5.2219, -5.2345, -5.3134, -5.4541, -5.4776, -5.5907, -4.4878, -4.0274, -3.8077, -3.8172, -3.9548, -4.4122, -4.1102, -3.9644, -4.3335, -3.9027, -4.4395, -4.5924, -4.7732, -4.7776, -2.3027, -3.4148, -3.6245, -3.8576, -3.8826, -4.0856, -4.1397, -4.2017, -4.287, -4.2918, -4.3938, -4.4333, -4.4642, -4.5125, -4.5451, -4.7006, -4.709, -4.729, -4.7379, -4.7612, -4.807, -4.8457, -4.8493, -4.9264, -4.9747, -5.0547, -5.0796, -5.2163, -5.2241, -5.2449, -4.4881, -3.5765, -4.9182, -4.6481, -4.5425, -4.3126, -4.4373, -4.5918, -4.6386, -4.7167, -4.7436, -1.9145, -2.7215, -2.7602, -3.2089, -3.3096, -3.7447, -3.8693, -3.9572, -3.988, -4.0859, -4.5687, -4.638, -4.9733, -5.2259, -5.2526, -5.3754, -5.5886, -5.805, -5.8098, -5.9354, -5.9606, -5.9748, -6.5715, -6.7579, -7.2279, -7.7086, -7.7353, -7.7548, -8.6041, -4.7618, -3.9716, -2.3797, -3.457, -3.8514, -4.3666, -3.9271, -4.6402, -4.8419, -4.6612, -5.0577, -5.1425, -4.9829, -3.1808, -3.214, -3.6416, -3.6995, -3.8739, -3.8887, -3.9655, -4.0694, -4.1285, -4.4838, -4.5057, -4.5317, -4.6672, -4.6857, -4.7671, -4.7994, -4.8229, -4.8889, -4.921, -4.9922, -5.0251, -5.1948, -5.2091, -5.252, -5.254, -5.3577, -5.396, -5.4022, -5.4305, -5.4737, -3.4605, -3.1477, -3.8692, -3.4728, -4.701, -3.0953, -4.4291, -4.1381, -4.2392, -4.1445, -3.8106, -4.1742, -4.7165, -4.7151, -2.361, -3.1061, -3.1245, -3.3738, -3.4574, -3.5921, -3.6265, -3.6441, -3.8355, -3.9492, -4.0146, -4.1385, -4.1433, -4.1665, -4.1931, -4.3104, -4.6887, -4.726, -4.8339, -4.8366, -4.8379, -4.9178, -4.9356, -5.0717, -5.3973, -5.4094, -5.4265, -5.4487, -5.5846, -5.599, -3.1779, -3.7776, -4.2617, -3.2683, -3.2649, -4.967, -3.0431, -3.2591, -3.4303, -3.646, -3.8508, -3.855, -4.0251, -4.2815, -4.313, -4.3342, -4.3401, -4.4453, -4.663, -4.7486, -4.7528, -4.9736, -5.1317, -5.138, -5.1455, -5.173, -5.1738, -5.1745, -5.1757, -5.1757, -5.1757, -5.2587, -5.3192, -5.3226, -5.5559, -5.6824, -4.297, -4.3305, -4.3629, -4.1504, -4.4688, -4.6673, -4.5913, -4.5806, -4.9286, -4.8807, -4.7423, -4.7918, -4.5692, -4.8888, -2.7732, -2.8374, -2.9103, -3.2201, -3.2429, -3.2806, -3.3015, -3.5691, -3.7208, -3.7369, -3.9381, -4.2836, -4.5153, -4.5268, -4.5552, -4.6127, -4.6349, -4.6442, -4.6515, -4.7995, -5.0768, -5.0912, -5.1001, -5.2067, -5.3906, -5.6507, -5.6995, -5.8615, -5.9085, -5.9869, -2.7716, -4.1495, -4.3377, -2.2198, -2.6706, -2.93, -2.9472, -3.3497, -3.5848, -3.6141, -3.7157, -3.9762, -4.2027, -4.4017, -4.4238, -4.5433, -4.627, -4.6474, -4.6951, -4.8681, -5.0404, -5.1051, -5.1201, -5.1429, -5.2323, -5.3192, -5.3734, -5.403, -5.4311, -5.4999, -5.5547, -5.7404, -5.7845, -2.4691, -2.7417, -2.8677, -3.1506, -3.3736, -3.3777, -3.6455, -3.8305, -3.9037, -3.9056, -3.9135, -3.9572, -4.2253, -4.52, -4.7619, -4.8592, -5.0251, -5.4363, -6.8879, -4.7433, -11.4559, -11.456, -11.456, -11.456, -11.456, -11.456, -11.456, -11.456, -11.456, -11.456, -11.456, -11.456, -11.456, -11.456, -2.4312, -2.7123, -3.6101, -3.8934, -4.18, -4.2176, -5.4236, -11.0189, -11.0189, -11.0189, -11.0189, -11.0189, -11.0189, -11.0189, -11.0189, -11.0189, -11.0189, -11.0189, -11.0189, -11.0189, -11.0189, -11.0189, -11.0189, -11.0189, -11.0189, -11.0189, -11.0189, -11.0189, -11.0189, -11.0189, -11.0189, -11.0188, -11.0189, -11.0189, -11.0189, -11.0189, -11.0189, -11.0189, -2.9988, -3.1948, -3.5134, -4.3955, -5.3683, -5.5579, -10.9018, -10.9019, -10.9019, -10.9019, -10.902, -10.902, -10.902, -10.902, -10.902, -10.902, -10.902, -10.902, -10.902, -10.902, -10.902, -10.902, -10.902, -10.902, -10.902, -10.902, -10.902, -10.902, -10.902, -10.902, -10.9019, -10.902, -10.902, -10.902], \"loglift\": [30.0, 29.0, 28.0, 27.0, 26.0, 25.0, 24.0, 23.0, 22.0, 21.0, 20.0, 19.0, 18.0, 17.0, 16.0, 15.0, 14.0, 13.0, 12.0, 11.0, 10.0, 9.0, 8.0, 7.0, 6.0, 5.0, 4.0, 3.0, 2.0, 1.0, 1.178, 1.178, 1.1779, 1.1778, 1.1778, 1.1778, 1.1777, 1.1777, 1.1777, 1.1777, 1.1776, 1.1776, 1.1776, 1.1774, 1.1774, 1.1773, 1.1773, 1.1773, 1.1773, 1.1772, 1.1772, 1.1771, 1.1771, 1.177, 1.1769, 1.1768, 1.1768, 1.1768, 1.1767, 1.1767, 1.1738, 1.1646, 1.1698, 1.1473, 1.1482, 1.1653, 1.1449, 1.1384, 1.1056, 1.1336, 1.1439, 1.1356, 1.156, 1.1257, 1.0327, 1.0665, 1.0614, 0.9858, 0.9719, 0.9435, 0.8385, 0.7575, 0.9157, 0.9297, 1.084, 0.8544, 0.05, 0.6273, 0.8219, 1.5444, 1.5443, 1.5443, 1.5443, 1.5443, 1.5442, 1.5442, 1.5441, 1.5441, 1.5441, 1.544, 1.544, 1.5439, 1.5439, 1.5438, 1.5438, 1.5437, 1.5437, 1.5437, 1.5437, 1.5436, 1.5436, 1.5436, 1.5435, 1.5434, 1.5434, 1.5434, 1.5433, 1.5433, 1.5433, 1.5417, 1.5405, 1.536, 1.5013, 1.4756, 1.5244, 1.4316, 1.4925, 1.4254, 1.4167, 1.4734, 1.4224, 1.4558, 1.1823, 1.4258, 1.3393, 1.3675, 1.3303, 1.2608, 1.0069, 1.3429, 1.2565, 1.3009, 1.157, 1.0949, 1.2995, 0.8604, 1.3323, 1.1745, 0.7802, 0.8149, 0.9044, 0.5692, 1.1182, 0.457, 2.1516, 2.1515, 2.1513, 2.1512, 2.1512, 2.1508, 2.1506, 2.1503, 2.1501, 2.1501, 2.1501, 2.15, 2.1498, 2.1497, 2.1497, 2.1493, 2.1493, 2.1492, 2.1492, 2.149, 2.1489, 2.1486, 2.1485, 2.1484, 2.1482, 2.1481, 2.1481, 2.1477, 2.1477, 2.1475, 2.1383, 2.1003, 2.0946, 2.073, 2.1272, 2.0884, 2.0908, 1.9586, 2.1069, 1.7591, 2.0921, 1.9469, 1.8323, 1.9034, 1.8687, 1.4227, 1.4157, 1.86, 1.2739, 0.9689, 1.3059, 1.5105, 1.7657, 1.3666, 0.5568, 0.6582, 2.6751, 2.675, 2.6748, 2.6748, 2.6747, 2.6744, 2.6744, 2.6744, 2.6743, 2.6743, 2.6742, 2.6742, 2.6741, 2.6741, 2.674, 2.674, 2.6739, 2.6738, 2.6738, 2.6737, 2.6737, 2.6734, 2.6732, 2.6732, 2.6731, 2.673, 2.6728, 2.6727, 2.6727, 2.6727, 2.6616, 2.607, 2.5649, 2.6137, 2.2102, 2.5317, 2.4932, 2.3054, 2.1774, 1.7548, 2.1619, 1.7625, 2.0261, 2.275, 1.2976, 1.8249, 1.6298, 2.7696, 2.7691, 2.7688, 2.7688, 2.7687, 2.7686, 2.7686, 2.7685, 2.7684, 2.7683, 2.7681, 2.7679, 2.7672, 2.7672, 2.7671, 2.7666, 2.7664, 2.7663, 2.7661, 2.766, 2.766, 2.7658, 2.7656, 2.7652, 2.7648, 2.7644, 2.7644, 2.7642, 2.7641, 2.7637, 2.6822, 2.716, 2.7454, 2.6069, 2.5885, 2.6713, 2.5077, 2.4833, 2.5487, 2.3099, 2.2523, 2.5536, 2.1875, 2.3858, 2.3777, 2.1379, 2.1154, 2.1691, 2.2007, 1.0265, 1.0179, 1.6659, 1.4236, 1.0748, 2.9435, 2.943, 2.9421, 2.9416, 2.9412, 2.9409, 2.9406, 2.9406, 2.9389, 2.9389, 2.9382, 2.9379, 2.9379, 2.9379, 2.9379, 2.9373, 2.9367, 2.9366, 2.9364, 2.9363, 2.936, 2.9353, 2.935, 2.9347, 2.9341, 2.9335, 2.9318, 2.9307, 2.9289, 2.9246, 3.0903, 3.0901, 3.0901, 3.0898, 3.0894, 3.0891, 3.089, 3.0889, 3.0887, 3.0886, 3.0885, 3.0883, 3.0883, 3.0881, 3.088, 3.0878, 3.0877, 3.0877, 3.0876, 3.0876, 3.0876, 3.0875, 3.0875, 3.0865, 3.0864, 3.0861, 3.086, 3.086, 3.086, 3.0859, 3.0429, 3.0266, 3.0448, 3.0118, 3.0212, 2.9383, 2.9325, 2.8698, 2.5185, 2.9285, 2.5237, 2.1303, 1.5784, 2.1765, 2.4746, 1.4815, 3.4053, 3.4051, 3.4049, 3.4046, 3.4044, 3.4043, 3.404, 3.4039, 3.4034, 3.4034, 3.4034, 3.4032, 3.403, 3.403, 3.4027, 3.4025, 3.4024, 3.4018, 3.4017, 3.4016, 3.4015, 3.4012, 3.4011, 3.401, 3.4007, 3.4007, 3.4007, 3.4007, 3.4007, 3.4006, 3.3996, 3.3907, 3.3142, 3.127, 3.2862, 3.1928, 2.9465, 3.2037, 3.2696, 3.108, 3.0251, 2.1208, 2.8981, 2.0745, 1.1025, 2.1185, 2.6747, 1.3845, 4.2336, 4.2324, 4.2324, 4.2319, 4.2317, 4.2312, 4.2312, 4.2312, 4.2311, 4.2307, 4.2306, 4.2285, 4.2279, 4.2278, 4.2275, 4.2273, 4.2272, 4.2271, 4.227, 4.226, 4.226, 4.2254, 4.2249, 4.2246, 4.2211, 4.2204, 4.2191, 4.2186, 4.2172, 4.2168, 4.1574, 3.5742, 3.5753, 3.083, 3.7872, 2.5064, 2.4468, 1.4148, 1.8013, 4.251, 4.2508, 4.2492, 4.2481, 4.248, 4.2475, 4.2464, 4.2461, 4.246, 4.2455, 4.2454, 4.245, 4.2447, 4.2445, 4.2443, 4.2437, 4.2436, 4.2431, 4.243, 4.2427, 4.2414, 4.2411, 4.2403, 4.2394, 4.2393, 4.2383, 4.2363, 4.2359, 4.2341, 4.2332, 4.1643, 4.0002, 3.998, 3.8186, 3.8109, 3.58, 3.4657, 2.9524, 1.9929, 2.4372, 2.7292, 3.2649, 3.2171, 4.2605, 4.2592, 4.2587, 4.258, 4.258, 4.2572, 4.257, 4.2568, 4.2564, 4.2563, 4.2558, 4.2556, 4.2554, 4.2551, 4.2549, 4.2539, 4.2538, 4.2537, 4.2536, 4.2534, 4.2531, 4.2527, 4.2527, 4.252, 4.2516, 4.2508, 4.2505, 4.249, 4.2489, 4.2486, 4.1553, 3.7563, 4.1518, 3.8766, 3.3717, 2.5401, 2.4399, 2.9521, 2.5834, 3.2025, 1.4494, 4.3438, 4.3432, 4.3431, 4.3425, 4.3423, 4.3412, 4.3408, 4.3405, 4.3404, 4.34, 4.3373, 4.3368, 4.3339, 4.331, 4.3306, 4.3288, 4.3252, 4.3206, 4.3205, 4.3174, 4.3167, 4.3163, 4.2941, 4.2841, 4.2497, 4.1955, 4.1918, 4.189, 4.013, 3.9783, 3.8927, 3.8134, 3.8416, 3.4623, 3.0762, 2.5913, 2.8003, 2.688, 2.2433, 2.7135, 2.7898, 2.0439, 4.4447, 4.4446, 4.4435, 4.4434, 4.4427, 4.4427, 4.4424, 4.4419, 4.4416, 4.4395, 4.4393, 4.4392, 4.4381, 4.4379, 4.4372, 4.4369, 4.4366, 4.436, 4.4356, 4.4348, 4.4344, 4.4322, 4.432, 4.4313, 4.4313, 4.4296, 4.429, 4.4289, 4.4284, 4.4276, 4.3709, 4.279, 4.3279, 4.1676, 4.3309, 3.7814, 4.1612, 4.0533, 3.8422, 3.7347, 3.4035, 3.7153, 3.4847, 2.2542, 4.6934, 4.6922, 4.6922, 4.6915, 4.6913, 4.6908, 4.6906, 4.6906, 4.6898, 4.6892, 4.6888, 4.6881, 4.688, 4.6879, 4.6877, 4.6869, 4.6834, 4.6829, 4.6816, 4.6816, 4.6816, 4.6805, 4.6802, 4.6782, 4.672, 4.6717, 4.6713, 4.6708, 4.6674, 4.667, 4.4907, 4.4907, 4.5368, 4.2617, 4.1779, 3.0182, 4.7279, 4.7273, 4.7268, 4.726, 4.7251, 4.7251, 4.7242, 4.7225, 4.7222, 4.722, 4.722, 4.7211, 4.7189, 4.7179, 4.7179, 4.7149, 4.7123, 4.7122, 4.7121, 4.7116, 4.7116, 4.7116, 4.7115, 4.7115, 4.7115, 4.71, 4.7087, 4.7086, 4.7031, 4.6995, 4.5836, 3.3098, 3.3192, 2.6629, 3.0623, 3.478, 3.224, 3.1267, 3.9677, 3.4464, 2.6277, 2.5086, 0.5069, 2.5045, 5.2173, 5.2171, 5.2168, 5.2157, 5.2156, 5.2154, 5.2153, 5.2138, 5.2128, 5.2127, 5.2111, 5.2074, 5.2041, 5.2039, 5.2035, 5.2025, 5.2021, 5.2019, 5.2018, 5.1989, 5.1923, 5.1919, 5.1916, 5.1885, 5.1822, 5.1712, 5.1688, 5.1601, 5.1573, 5.1524, 4.9995, 3.5191, 3.1051, 5.4201, 5.4189, 5.418, 5.4179, 5.4159, 5.4143, 5.4141, 5.4132, 5.4106, 5.4077, 5.4046, 5.4042, 5.402, 5.4002, 5.3998, 5.3987, 5.3944, 5.3893, 5.3871, 5.3866, 5.3858, 5.3825, 5.3789, 5.3766, 5.3753, 5.374, 5.3706, 5.3678, 5.3571, 5.3543, 5.8898, 5.8885, 5.8878, 5.8858, 5.8838, 5.8838, 5.8807, 5.878, 5.8768, 5.8767, 5.8766, 5.8758, 5.8703, 5.8624, 5.8539, 5.8499, 5.8422, 5.8168, 5.5996, 4.9381, 2.3683, 2.3683, 2.3683, 2.3683, 2.3683, 2.3683, 2.3683, 2.3682, 2.3682, 2.3682, 2.3682, 2.3682, 2.3682, 2.3682, 6.7674, 6.7643, 6.746, 6.7361, 6.7228, 6.7208, 6.6002, 2.8054, 2.8054, 2.8054, 2.8054, 2.8054, 2.8054, 2.8054, 2.8054, 2.8054, 2.8054, 2.8054, 2.8054, 2.8054, 2.8054, 2.8054, 2.8054, 2.8054, 2.8054, 2.8054, 2.8054, 2.8054, 2.8054, 2.8054, 2.8054, 2.8054, 2.8054, 2.8054, 2.8054, 2.8054, 2.8054, 2.8053, 7.4246, 7.4175, 7.4026, 7.329, 7.1472, 7.0929, 2.9224, 2.9224, 2.9223, 2.9223, 2.9223, 2.9223, 2.9223, 2.9223, 2.9223, 2.9223, 2.9223, 2.9223, 2.9223, 2.9223, 2.9223, 2.9223, 2.9223, 2.9223, 2.9223, 2.9223, 2.9223, 2.9223, 2.9223, 2.9223, 2.9223, 2.9223, 2.9223, 2.9223]}, \"token.table\": {\"Topic\": [6, 14, 6, 1, 5, 4, 9, 10, 17, 12, 16, 8, 3, 2, 5, 7, 8, 1, 8, 10, 13, 9, 1, 1, 2, 3, 4, 6, 10, 6, 5, 2, 5, 16, 4, 3, 15, 8, 16, 13, 2, 13, 5, 15, 13, 1, 2, 3, 11, 5, 18, 11, 5, 5, 5, 9, 13, 10, 9, 7, 1, 6, 1, 3, 1, 7, 19, 19, 13, 6, 6, 5, 1, 5, 2, 3, 3, 16, 1, 4, 9, 9, 10, 14, 2, 15, 13, 13, 2, 5, 6, 16, 3, 9, 17, 20, 13, 3, 17, 16, 14, 17, 1, 15, 15, 16, 3, 4, 10, 10, 1, 2, 3, 4, 6, 17, 6, 9, 8, 12, 10, 4, 1, 2, 7, 8, 10, 11, 15, 1, 2, 8, 2, 5, 6, 17, 1, 4, 9, 16, 20, 1, 5, 8, 15, 4, 9, 5, 5, 5, 8, 13, 1, 5, 3, 9, 14, 17, 6, 4, 9, 12, 4, 14, 1, 1, 8, 1, 14, 18, 2, 9, 3, 4, 5, 19, 2, 8, 2, 4, 5, 16, 12, 12, 18, 10, 2, 10, 2, 3, 4, 11, 1, 8, 13, 8, 1, 2, 4, 12, 8, 13, 14, 2, 6, 16, 10, 1, 4, 9, 11, 3, 1, 5, 9, 18, 7, 14, 2, 8, 13, 3, 2, 5, 15, 2, 4, 17, 2, 6, 9, 12, 9, 13, 7, 9, 3, 4, 11, 3, 15, 19, 3, 7, 1, 4, 16, 6, 12, 10, 7, 4, 10, 4, 10, 2, 14, 16, 5, 11, 15, 12, 2, 8, 3, 4, 12, 18, 9, 13, 1, 11, 3, 11, 1, 2, 12, 5, 12, 5, 12, 14, 15, 13, 1, 5, 1, 5, 3, 2, 4, 5, 14, 16, 11, 1, 5, 14, 18, 17, 1, 5, 8, 7, 10, 5, 7, 7, 4, 11, 1, 2, 15, 1, 4, 10, 16, 4, 8, 1, 11, 8, 13, 12, 13, 1, 2, 3, 4, 1, 10, 10, 1, 2, 7, 16, 17, 11, 2, 4, 5, 1, 5, 7, 8, 13, 12, 9, 1, 2, 11, 1, 3, 10, 15, 18, 2, 12, 14, 3, 15, 2, 10, 10, 2, 15, 1, 3, 4, 19, 15, 1, 2, 1, 7, 17, 5, 1, 2, 3, 6, 8, 15, 4, 12, 5, 13, 2, 1, 2, 9, 10, 1, 1, 1, 12, 14, 16, 8, 10, 14, 2, 17, 1, 2, 3, 4, 17, 2, 3, 4, 7, 10, 11, 10, 7, 15, 18, 1, 2, 5, 7, 15, 3, 10, 14, 5, 15, 5, 7, 1, 3, 7, 1, 2, 4, 5, 2, 5, 7, 4, 12, 18, 11, 13, 6, 20, 12, 18, 7, 10, 16, 2, 4, 12, 2, 4, 7, 8, 3, 4, 2, 4, 9, 12, 13, 4, 3, 14, 16, 9, 10, 14, 14, 2, 3, 4, 5, 12, 14, 13, 13, 2, 5, 8, 17, 14, 5, 13, 17, 9, 3, 7, 1, 5, 10, 13, 15, 1, 12, 1, 2, 3, 13, 2, 1, 3, 7, 11, 5, 8, 14, 13, 8, 1, 2, 13, 1, 5, 15, 1, 5, 10, 1, 10, 1, 3, 2, 3, 14, 2, 3, 4, 9, 1, 3, 19, 15, 1, 2, 3, 4, 1, 7, 11, 1, 3, 6, 4, 3, 4, 1, 2, 1, 5, 13, 4, 1, 2, 5, 11, 11, 3, 17, 15, 9, 7, 1, 1, 2, 5, 16, 15, 4, 2, 3, 4, 2, 15, 10, 15, 10, 8, 11, 13, 8, 11, 4, 17, 6, 11, 18, 1, 4, 11, 5, 5, 3, 3, 3, 3, 15, 4, 17, 1, 2, 3, 16, 5, 8, 15, 1, 2, 3, 12, 6, 7, 8, 5, 15, 6, 1, 2, 3, 4, 9, 1, 1, 2, 3, 4, 8, 17, 3, 9, 4, 2, 4, 17, 2, 3, 4, 7, 5, 11, 12, 5, 11, 5, 14, 13, 13, 8, 6, 16, 14, 11, 1, 2, 3, 8, 3, 6, 12, 2, 11, 12, 2, 12, 17, 12, 12, 1, 2, 5, 6, 2, 4, 12, 5, 13, 3, 1, 5, 8, 15, 1, 2, 5, 8, 8, 18, 9, 2, 16, 3, 6, 7, 12, 10, 11, 2, 11, 11, 16, 7, 7, 12, 1, 2, 5, 7, 14, 8, 10, 8, 13, 8, 15, 14, 20, 8, 13, 15, 4, 1, 2, 3, 1, 2, 10, 8, 6, 3, 4, 5, 17, 8, 8, 1, 2, 4, 8, 15, 2, 7, 2, 4, 11, 12, 8, 2, 3, 11, 18, 5, 14, 8, 8, 8, 1, 2, 5, 2, 4, 8, 8, 9, 18, 7, 1, 10, 1, 1, 2, 3, 5, 9, 7, 15, 11, 16, 4, 7, 10, 8, 1, 1, 2, 5, 1, 10, 1, 2, 5, 16, 2, 14, 1, 7, 10, 18, 2, 16, 3, 9, 9, 5, 17, 5, 5, 15, 1, 17, 3, 6, 15, 2, 4, 2, 11, 7, 15, 7, 8, 8, 2, 17, 17, 17, 2, 15, 6, 5, 10, 1, 8, 2, 13, 10, 15, 11, 8, 7, 13, 6, 14, 3, 4, 7, 6, 17, 1, 2, 8, 10, 4, 11, 11, 1, 5, 12, 16, 9, 2, 5, 11, 2, 11, 7, 4, 5, 4, 3, 1, 2, 7, 9, 2, 9, 8, 9, 1, 2, 1, 5, 16, 7, 13, 3, 2, 3, 12, 1, 5, 15, 16, 5, 7, 14, 12, 1, 2, 4, 15, 12, 6, 7, 10, 15, 11, 9, 4, 2, 15, 2, 12, 11, 15, 6, 2, 8, 4, 11, 13, 15, 2, 16, 20, 15, 2, 12, 15, 11, 12, 11, 18, 11, 13, 2, 11, 16, 4, 10, 10, 1, 2, 5, 8, 13, 1, 5, 8, 14, 1, 1, 20, 9, 11, 16, 16, 13, 1, 13, 11, 14, 1, 2, 3, 15, 2, 4, 5, 8, 9, 11, 1, 2, 1, 10, 9, 4, 8, 19, 7, 3, 4, 8, 9, 11, 15, 1, 12, 15, 13, 18, 1, 3, 12, 3, 4, 17, 2, 5, 1, 5, 1, 5, 7, 10, 13, 18, 1, 2, 11, 15, 1, 8, 15, 7, 9, 3, 5, 8, 17, 10, 13, 15, 10, 1, 2, 4, 5, 14, 5, 1, 3, 4, 15, 15, 15, 1, 8, 5, 3, 6, 4, 14, 14, 2, 4, 9, 4, 9, 2, 1, 3, 4, 10, 11, 4, 5, 3, 4, 13, 15, 6, 18, 7, 1, 3, 4, 13, 14, 8, 3, 10, 7, 7, 1, 2, 5, 15, 8, 10, 8, 1, 2, 7, 7, 4, 18, 2, 3, 9, 13, 1, 5, 15, 1, 2, 5, 1, 2, 3, 4, 15, 12, 6, 12, 16, 1, 2, 3, 1, 2, 7], \"Freq\": [0.9993399915086598, 0.9734549960807233, 0.9837521941965063, 0.31786177917670905, 0.6806943566935313, 0.9989868730488976, 0.978293263563411, 0.9923921420479058, 0.9792472350878394, 0.9750915882106422, 0.9765227008956281, 0.9924943375998002, 0.9972753427960058, 0.0129101743346684, 0.12651970847975033, 0.8585265932554486, 0.9947578856537378, 0.16950120128722324, 0.029662710225264066, 0.04237530032180581, 0.7500428156959629, 0.9968092632021034, 0.999111571423694, 0.22501667098466596, 0.6956099118256932, 0.004895214017070325, 0.07424407925889993, 0.9954772173786265, 0.9941750875118917, 0.9970926420606226, 0.9970184331751114, 0.9954938912898488, 0.004067390771357911, 0.9948051762664673, 0.9985291836409054, 0.9979715356324587, 0.97656040099335, 0.9935516734391899, 0.9930140881178994, 0.9968477306113235, 0.8872178563427745, 0.11142584975787442, 0.9988974395001049, 0.9975108910777417, 0.9893849812905927, 0.1753311051265213, 0.00025746124100810763, 0.8243908937079606, 0.9919842757117835, 0.9945512999396305, 0.9891728607469147, 0.9936750171918683, 0.9969916113366, 0.9979634781201033, 0.021178486879521563, 0.13236554299700976, 0.8458158197508924, 0.992573672951737, 0.9799128348884182, 0.9979048981190913, 0.9990966513770149, 0.9999723408461434, 0.9870762269910266, 0.012186126259148477, 0.9994437922344186, 0.9940230289477211, 0.9887873083454513, 0.9870079715032819, 0.9793814738615428, 0.9936105243805899, 0.9940430980613087, 0.9983495413324496, 0.4036573539298711, 0.5958030958680032, 0.18474911178894066, 0.814948859780105, 0.9990009714467887, 0.9829515550387269, 0.2237572167480198, 0.5984427488614062, 0.1777600158747652, 0.9254695186505626, 0.0723023061445752, 0.9981119260805501, 0.8910221043495052, 0.1075371505249403, 0.9798633661237629, 0.9967324139711563, 0.8371141791753818, 0.16235844400376623, 0.99445279749336, 0.9953823051036347, 0.9979926046354971, 0.9884611504014125, 0.9651581043209113, 0.9541090089251235, 0.9895616953985634, 0.996954887128262, 0.9359641863735082, 0.9814170848625434, 0.9929298069858853, 0.9602988382500887, 0.719834327807687, 0.2768593568491104, 0.9913550124953987, 0.9978016428234199, 0.9242971578223613, 0.028385325384180003, 0.04671751469479626, 0.9841727352582346, 0.30012301085114074, 0.6374538949737856, 0.054120542940369644, 0.007995080207100061, 0.9966086593527113, 0.9626131347529905, 0.9970081852012642, 0.9923708358500937, 0.30026008926553277, 0.694043812892461, 0.9993894240385351, 0.9991375353379337, 0.3670133947499513, 0.051238883033272425, 0.07626252358440547, 0.24427839585629876, 0.21806315337415938, 0.03455645599918373, 0.008341213517044348, 0.11488630836286268, 0.7525522760335746, 0.13241664424384444, 0.8873424556855454, 0.11163135968595853, 0.997703032778697, 0.9872839229102401, 0.9981962287682709, 0.9982820184592068, 0.9858584880370284, 0.921649729963299, 0.7373566992547751, 0.002150243529594301, 0.7690704357515616, 0.10177819373413025, 0.12686436824606376, 0.4821083817238672, 0.5165920623973763, 0.9982233410515227, 0.9953368344877339, 0.998040655293868, 0.9968818929363689, 0.9945859730861224, 0.08347606457576362, 0.9161099316180937, 0.9975612874705861, 0.9972053252740329, 0.9971864018383051, 0.9447005701653216, 0.9972836179934681, 0.2946076182669935, 0.09897884408179622, 0.6043531773935558, 0.9986541785214312, 0.9989136740962845, 0.9997019139409484, 0.3148296977591813, 0.6829638946098642, 0.9991027353105232, 0.9964465287056268, 0.9520987084098513, 0.9978811536101657, 0.9924715286892954, 0.3086032529725555, 0.6907775214537681, 0.998552725515218, 0.7878168062286205, 0.997756998305975, 0.995475718070967, 0.9792536753248622, 0.019402462098511257, 0.9967059129282742, 0.9969101038781867, 0.998026045473089, 0.9837421732899146, 0.973722981396541, 0.9975230792367861, 0.9991084281589927, 0.9946427250702733, 0.059089096850425245, 0.7533859848429219, 0.09109569097773892, 0.09519910048124067, 0.06335566822726706, 0.8072386003439717, 0.12889601466926748, 0.9960812024654876, 0.002234489491446863, 0.9965823131853009, 0.9982374193889331, 0.9962291747511898, 0.9979765009551652, 0.986321212167449, 0.9959407598862847, 0.9988685825483371, 0.9883134912945317, 0.9908631338254137, 0.9945712241650916, 0.9988982295444331, 0.6700792138456901, 0.16732878886226468, 0.16198038008584528, 0.9970077228930238, 0.4330932631983116, 0.5655688495883834, 0.9956537486661251, 0.9112979904695846, 0.9972677348463364, 0.985985507607686, 0.37353397562629886, 0.6005524694336615, 0.024150903596527943, 0.9961822367478476, 0.4942246931022907, 0.21724162334166625, 0.28512963063593694, 0.9978487653934778, 0.999110833310933, 0.994864800061912, 0.9989831656086028, 0.9952913543851365, 0.9977265676772359, 0.9958446742612548, 0.9852740975178287, 0.9847645568423825, 0.9381045797129498, 0.06148254116511934, 0.9990206973976563, 0.9987051176891656, 0.9856512234622133, 0.9382696979925284, 0.06028701226920318, 0.9415785240147954, 0.14462942103023702, 0.8533135840783985, 0.4773363612293175, 0.5222721110430898, 0.9756522274675696, 0.9986632213972853, 0.9617237365687955, 0.9944080091146842, 0.9944785206796564, 0.8952097746896452, 0.10449362576326207, 0.9339042955525345, 0.06578607606792716, 0.9979674684954232, 0.983429916684643, 0.9808827402549057, 0.39525873552438606, 0.6037336173710897, 0.9972731491149924, 0.98976090686191, 0.9987918908183595, 0.9967573691860077, 0.7796746904263308, 0.09657601905582948, 0.12248665831471056, 0.9846958392598328, 0.9985179220925898, 0.9746471467882981, 0.09383437717737499, 0.898129038697732, 0.9757451668874846, 0.021967996252626295, 0.9918882554582367, 0.007536263776129209, 0.9990126150056968, 0.9934647184593791, 0.8343627669197782, 0.15850789415923966, 0.19079653926575144, 0.6487082335035549, 0.9935677028566128, 0.9928623792029334, 0.9564783514600659, 0.04323608821265994, 0.999376393426676, 0.9994409319654506, 0.9964340422853639, 0.15460936111730403, 0.0941100458974894, 0.7504359504033571, 0.9922551935585234, 0.9960845471624107, 0.9910370061804236, 0.3231975454779156, 0.6753999988833365, 0.9915709403828095, 0.9769965322450526, 0.9943826068403964, 0.5344437024198103, 0.33158591836179263, 0.13361092560495258, 0.9970673868138552, 0.9913725427787436, 0.9993000679007323, 0.9977744506157659, 0.9983158675867826, 0.7277564601531092, 0.26937406807303227, 0.9783050641485301, 0.021511955433550885, 0.9666735998393786, 0.06362324243384956, 0.8337493560734315, 0.10160726776749109, 0.9972917927099496, 0.9969009787926832, 0.995142866064724, 0.9993356354482408, 0.9983130477815465, 0.4508982074256172, 0.5451537649100683, 0.9994208408745586, 0.9930213938095424, 0.4264446570425345, 0.5041124374942197, 0.06820201970913614, 0.000970847255646066, 0.5432131512331366, 0.45555528330798495, 0.997727792912015, 0.442591013307681, 0.3367212311471505, 0.22028961798723215, 0.9889239750730083, 0.9806779951606119, 0.9953869137307092, 0.8067969926698676, 0.05564117190826673, 0.13699530962262643, 0.32106998507642925, 0.087759129254224, 0.010702332835880974, 0.22688945612067665, 0.35210675030048405, 0.9980677589291538, 0.9846290445791773, 0.06851051960338782, 0.9306653730392795, 0.983367562287939, 0.3512724220633324, 0.2439391819884253, 0.3732269484422907, 0.029272701838611036, 0.9908571496788641, 0.7810010747775632, 0.21336627300624147, 0.00402577873596682, 0.9992479525016622, 0.9873021090369025, 0.014487411967303295, 0.9803148764541896, 0.9907022719800394, 0.9988662247065344, 0.9916561392929734, 0.6565426636565866, 0.30639300172699485, 0.03691365827664015, 0.9662376754108944, 0.9940732016117159, 0.7799448647035655, 0.2198111199687574, 0.9998146670091698, 0.9985411881185823, 0.9551004907028163, 0.9992361545200146, 0.7909240261534206, 0.006119031346951677, 0.20286942388739793, 0.9885831526223194, 0.992870623304606, 0.006735892966788372, 0.5852249706365243, 0.41379543378340106, 0.10867382025045862, 0.8894094236287534, 0.9978051292193667, 0.04264181731567007, 0.9569112902702911, 0.9906935923401529, 0.9991440509354561, 0.9988758331097235, 0.9995799690693716, 0.9990640644336735, 0.2811274990495164, 0.5958826893728983, 0.12105968858591615, 0.8703674192695713, 0.12391671731973557, 0.9977040999707171, 0.998702314446321, 0.9947974838997717, 0.24265343289883065, 0.04789212491424289, 0.5268133740566718, 0.18234483115496922, 0.9703194792434932, 0.5397961404116354, 0.028819624445705957, 0.20722682339531426, 0.1999075536948175, 0.018755628607522924, 0.005489452275372563, 0.987651198316155, 0.5294007737984822, 0.46610285519214195, 0.8350560891076175, 0.11881131779520644, 0.1113074450923513, 0.38770008964751573, 0.2588836082485025, 0.12256325414663401, 0.9424415457822246, 0.05666578914513376, 0.9976290217667679, 0.9959300300247682, 0.9859340734008377, 0.9932324020653049, 0.99402546313513, 0.998960930195039, 0.9998774466917735, 0.9964702397470865, 0.12230038568522193, 0.6522687236545169, 0.01870476486950453, 0.20575241356454982, 0.05140369569116799, 0.947944623481245, 0.9971843294391521, 0.9975873980333628, 0.9991303575662136, 0.9664533902974055, 0.9937771373262363, 0.9909055508209147, 0.9983266554567337, 0.644052544045571, 0.9936283080873659, 0.9930443182943987, 0.9947872694725535, 0.9941483975292965, 0.95098400421991, 0.7492858740830648, 0.2280435268948458, 0.022397132105743785, 0.3429696648259758, 0.04931589951746058, 0.5402332628958181, 0.06724895388744624, 0.7470346856215079, 0.25253020350900973, 0.93282602723108, 0.03363555386650529, 0.03273860576339848, 0.0004484740515534039, 0.993203900638225, 0.9983863308624816, 0.9976833415148637, 0.8159145400347603, 0.18206357504907872, 0.9830521086809163, 0.9967529553443008, 0.9855775396092248, 0.9863593239902483, 0.05840919428780564, 0.9404870266680568, 0.9980120720027067, 0.995738347333085, 0.7129206778896828, 0.9822212820793654, 0.9919643432706778, 0.9981001904310177, 0.6461192808581445, 0.08918824429023467, 0.2636008109022491, 0.9531139084057192, 0.990843954813992, 0.507781494035889, 0.4911329204609418, 0.9719661624339728, 0.9995047330584584, 0.9985253536568849, 0.9970085193152373, 0.22299840212181113, 0.06109545263611264, 0.1626666426436499, 0.5139654953012975, 0.03742096473961899, 0.9993366733180753, 0.9869292111981152, 0.9299963043908823, 0.00011457389483687105, 0.06977550195565448, 0.9972083536302492, 0.9992676666641485, 0.4060873593234284, 0.029164054097221188, 0.5642802588204766, 0.9966396203337554, 0.24347815007431792, 0.7557308813995063, 0.9971913688824, 0.9815756718441273, 0.9974128698145258, 0.9993486292872691, 0.9983433798309845, 0.9758712768539334, 0.4118000013061692, 0.3417427396731695, 0.2443460588663162, 0.46810621360651794, 0.5317004751188881, 0.9894498607290199, 0.7255131363889292, 0.2724985948085202, 0.3196257241369653, 0.6797104006963313, 0.0003889810365798537, 0.9994867734919342, 0.9966300021867359, 0.8082143541728045, 0.1626028878848033, 0.02880051150727143, 0.9961583769755826, 0.9958471296073877, 0.0038486845588691317, 0.9443233011378694, 0.9798225384427731, 0.4802383222938536, 0.030152788995479324, 0.4824446239276692, 0.0068640495274261875, 0.4319586439582207, 0.5668509924223668, 0.989693065336729, 0.576511647848738, 0.4157337493110327, 0.007691824784184269, 0.9992131510080283, 0.7264187115959682, 0.27296222848186463, 0.8646460739300902, 0.13523799456535066, 0.39882309742794764, 0.5585495295251727, 0.042396522099880714, 0.9978648553464556, 0.4652124090936382, 0.37687154204766543, 0.15787527500092616, 0.9961621741400846, 0.994231195016673, 0.9978223905934843, 0.9599719290105144, 0.9875972107666572, 0.9979061722625592, 0.9964944509499398, 0.9993248143166517, 0.6735619131753218, 0.06580207202841877, 0.26023231500686217, 0.947344742748857, 0.97656040099335, 0.9985388867179391, 0.7821410101396066, 0.14084940428162085, 0.07629342731921128, 0.9988148961271565, 0.9740401607014805, 0.9158936559104807, 0.07964292660091137, 0.9902103793652876, 0.3406184726169748, 0.17451440263709203, 0.4814915446252298, 0.995749062577971, 0.9964723792908469, 0.9985403917516001, 0.9976219515641201, 0.9983335790186931, 0.6056577307282366, 0.37853608170514785, 0.9990378578548976, 0.9983605052038922, 0.9953428901322037, 0.9959360189830772, 0.9927706572286848, 0.9978442751373894, 0.998336876585755, 0.996769623957376, 0.9967985581776204, 0.9747592607085624, 0.9972651815277425, 0.9868111194521796, 0.9583659649048586, 0.027728968397633, 0.013732441492161105, 0.9916101884415409, 0.46787089619850253, 0.32943718533827143, 0.2015174272016022, 0.2108504188112133, 0.7834442101800533, 0.003997164337653333, 0.0014989366266199998, 0.9867783180647046, 0.18198043830723803, 0.8158448863436851, 0.9970443592108332, 0.9913755625063302, 0.9894860789456529, 0.20915064424573934, 0.18171042542424254, 0.42910452424797346, 0.16853047780131888, 0.011235365186754592, 0.9994100906336896, 0.0007443269571055817, 0.4654524571766904, 0.4790984513902927, 0.03721634785527908, 0.01736762899913024, 0.9823238107165329, 0.9997712951290488, 0.995511255392346, 0.9977710971703662, 0.9489881714387883, 0.05042932311993561, 0.9964918543812306, 0.8926727479975692, 0.0009426322576531882, 0.003142107525510627, 0.10274691608419752, 0.2419363691075474, 0.11891787634099787, 0.6355955459605058, 0.9746852766433934, 0.02002777965705603, 0.8097729410279274, 0.18740459492360606, 0.9860372562395757, 0.9959734112865536, 0.9952505136372509, 0.9893240443657633, 0.987474722932542, 0.9896790280790022, 0.9973457943675652, 0.06705754163691222, 0.8792509830014713, 0.04689338576007847, 0.006096140148810201, 0.9994930981925906, 0.0004007992373704624, 0.983036260283568, 0.9980682423164272, 0.9925745074517092, 0.9986312328251482, 0.9982823956440281, 0.9484086706893862, 0.9864449198644392, 0.9914696362671701, 0.8154110188929286, 0.04516760284728271, 0.8138234155876474, 0.13267983336389297, 0.007662361197306888, 0.9985450505816577, 0.9990953123710024, 0.9124832248628315, 0.32133853358801345, 0.6739578093837096, 0.9964602011154858, 0.7119951956337751, 0.17333121878114938, 0.09978529407269952, 0.014633494453139247, 0.39076306079204637, 0.03535765604670622, 0.297492002599873, 0.27554587126053814, 0.9959232102289135, 0.9838400167698765, 0.9983198410936241, 0.9988230669602414, 0.9876992359071606, 0.9982557369724491, 0.9951027720447851, 0.9990811417857837, 0.9345908951892672, 0.9863241296604175, 0.995128176953537, 0.313513691252813, 0.6825867708289093, 0.9860587968838552, 0.9818751802590288, 0.999554202914543, 0.9986131144111783, 0.989376019501656, 0.7002581629849646, 0.1540410773794086, 0.0780684371752785, 0.06706550307674931, 0.9931040564517021, 0.7421450153589885, 0.2567521896570238, 0.8853345477325404, 0.11092844215088568, 0.9842350343746817, 0.012458671321198503, 0.9758266447830519, 0.8760290488990857, 0.46521235995621324, 0.3819336041615825, 0.14932742418347586, 0.9985411871669846, 0.01675013521074155, 0.5268081740790087, 0.45619485897490214, 0.11524132903757468, 0.8843859459173152, 0.9756873181118536, 0.9953099533036825, 0.976778478295678, 0.9447435021185394, 0.05485141799924293, 0.9930119616380748, 0.9947024108156167, 0.9938656007033005, 0.9983518223301321, 0.47263668624016364, 0.12594067728587946, 0.4012862645078593, 0.13030148125217306, 0.8611228326230568, 0.9981443025775519, 0.9961407542252713, 0.997930183782925, 0.3515613437675279, 0.060135493012866616, 0.5882484765232978, 0.9946160519851097, 0.35995079204635466, 0.22631636625669005, 0.411680247190741, 0.9967211940469018, 0.14089911531204524, 0.8558316633768673, 0.9969435602561354, 0.9989617397800066, 0.9976085384675457, 0.11033116448076867, 0.054062270595576646, 0.8341036034746111, 0.8870581740555498, 0.010246546564998099, 0.10197753486117156, 0.9112834488005869, 0.08797778892530127, 0.9830703913396949, 0.9979154870467665, 0.6423905959958942, 0.3550668021504579, 0.9991833086720634, 0.1188690097552703, 0.48180804438334746, 0.2152881823170513, 0.18362815550572023, 0.9960442742980543, 0.9323184966190627, 0.06405241579825623, 0.9931544832863258, 0.9948829984118776, 0.1630570821756922, 0.8020370229516861, 0.033630523198736516, 0.9966639043939624, 0.9994821082654745, 0.2719465841638276, 0.6780913521578469, 0.04970303104821914, 0.999491271275052, 0.9923057072048656, 0.3646155817374135, 0.004016951324225742, 0.6312793504148608, 0.9672320857471478, 0.9988378937544544, 0.9776829916195751, 0.07347169247836059, 0.9241965527541149, 0.9905479063811375, 0.9636715754267151, 0.9989306504001643, 0.9639485832470822, 0.3559742782200496, 0.6397916081522513, 0.9955885534630574, 0.9947259230717557, 0.9914612962336969, 0.9985890251388823, 0.9975789646066436, 0.9781831670507989, 0.9992725259328863, 0.9948144045057764, 0.9867508391086668, 0.0017731371771943698, 0.011229868788897675, 0.9142033345431313, 0.08448310304192723, 0.8201337436425321, 0.17893827134018883, 0.997100686809423, 0.9813499194622655, 0.9968812724503241, 0.993523739598944, 0.9917527984386496, 0.9988838273599321, 0.9788607407097902, 0.9856432971689079, 0.970098005530273, 0.9908813138704394, 0.007788586746579873, 0.9939075911770339, 0.996688871586913, 0.9860723194551254, 0.7234634339356463, 0.2764164332822662, 0.9977381800377811, 0.98185600801738, 0.7769725492329523, 0.22254992616220243, 0.9946662147265555, 0.9938812376233795, 0.9960682264661939, 0.995727864680309, 0.9904220421256252, 0.9873098147461719, 0.00920853062714872, 0.6077630213918155, 0.3826303243349726, 0.9949541877584102, 0.9211741323067628, 0.9997625947547215, 0.14601947493616532, 0.2040528560005387, 0.6477274144604256, 0.9990129299353645, 0.9958687589869583, 0.9916910338113474, 0.8249566174984866, 0.1749256522634289, 0.19612768084378418, 0.801321667447461, 0.9907995829777955, 0.01078650771900511, 0.8014375235220796, 0.1866065835387884, 0.6498237338349132, 0.34657265804528703, 0.9973425152297107, 0.9981920668519465, 0.995593219560371, 0.997402998131911, 0.9986893871451471, 0.31736960376061935, 0.28069578288161445, 0.4005909665245151, 0.9978872985634516, 0.9981329023143002, 0.9965972651890156, 0.48089149959909244, 0.5175577136447711, 0.9704416614141322, 0.029273064953793327, 0.9663990534701604, 0.03340088894482121, 0.9807788600662529, 0.9551335607466902, 0.043491195410532306, 0.9988994532022453, 0.6901753444064056, 0.29725604759085894, 0.012132899901667712, 0.14984618686336826, 0.8497450432004998, 0.9926709703628341, 0.9915879207217212, 0.1486259685289547, 0.8497908318243763, 0.996983367866142, 0.9946524515721387, 0.05733092273554365, 0.5150460944941118, 0.42695223760778855, 0.9846268695029549, 0.9810346333557091, 0.9883705997317898, 0.37384194106616797, 0.5116638548232806, 0.11370307884961792, 0.9934521411060949, 0.9909489905784571, 0.9974650854306647, 0.9982190162101514, 0.9754637425465779, 0.7856044370486256, 0.2106648769739331, 0.9929909674072792, 0.9933175229506503, 0.9906129467522785, 0.9993840850734802, 0.9945146055967631, 0.9990415766558786, 0.9896523850508528, 0.7571812416897771, 0.24092130417401997, 0.9982665506436188, 0.995427145781648, 0.9538949894501696, 0.97656040099335, 0.8165486168401226, 0.17344986959022213, 0.009606454315766148, 0.9991731833314715, 0.9686059046766221, 0.982945005775791, 0.9852223196098279, 0.990242805248309, 0.9880978297254169, 0.998362555878648, 0.9912809475117205, 0.9571115237695367, 0.8658228750198336, 0.1328013346950711, 0.9930780370821548, 0.22211496991028087, 0.08650395936982028, 0.058550714857301935, 0.6312144808164615, 0.0011332396423993922, 0.07510393702051715, 0.805369877837035, 0.11824875190464403, 0.9784818467778333, 0.9996742172794435, 0.9978575152763657, 0.9602571816444346, 0.9917157702783255, 0.8968516405794049, 0.09584674021459288, 0.9538085704043965, 0.9819299826647662, 0.9984548360546313, 0.9905049651943616, 0.1811964563400461, 0.8169196167195298, 0.9102149171595422, 0.06765610472794323, 0.02181262392868115, 0.9911994685124992, 0.20554153089611982, 0.6277684106285105, 0.07697489058659909, 0.01444568992241806, 0.059640062679697424, 0.015477524916876493, 0.98644567115172, 0.013344435204757997, 0.9992205728949456, 0.9924409949336054, 0.9961483236619136, 0.9988911475884784, 0.9966384430993747, 0.9313141589311851, 0.9996268370040065, 0.5000071656491508, 0.06920514403448454, 0.016436221708190077, 0.31661353395776676, 0.09688720164827835, 0.97532799116054, 0.9997200437620382, 0.9967490488434628, 0.9660676811969366, 0.9944372684992518, 0.994776991191917, 0.32034032521722644, 0.5785647978992565, 0.10027273337824538, 0.950010380719771, 0.049606101773121025, 0.9715589275846505, 0.0915378721716312, 0.9064481976020066, 0.9609014918862536, 0.038802767145173764, 0.9696230707341907, 0.03025325246807723, 0.9971905473987734, 0.9942898364466671, 0.987977965502298, 0.9499837314382384, 0.8136641337241053, 0.18615926783214795, 0.987684208306719, 0.9918075101054784, 0.6672815338255952, 0.22398261275264733, 0.10849157805206355, 0.9981997255420106, 0.9960257424662919, 0.9975802946155957, 0.9956409406714932, 0.9982404069063809, 0.9416525558588138, 0.9897124541100294, 0.8897068570352692, 0.09885631744836325, 0.9910284670067108, 0.37855753064661346, 0.07723080056670041, 0.024055495258480455, 0.5197253054529593, 0.9964746678906342, 0.9989470830435815, 0.8942934896636048, 0.010900361518202652, 0.0943924922959251, 0.9947837682260922, 0.9941051376012277, 0.9961303091557928, 0.9993114949487671, 0.9969402737685257, 0.9972889117482318, 0.9957425237140012, 0.0032772655744838218, 0.9974808100978306, 0.9933278637392289, 0.9869721241635755, 0.5836927103239041, 0.3982277638523472, 0.017823903946617155, 0.9403451964612933, 0.059182564812249226, 0.9991553650598668, 0.9489899870262161, 0.027660377455603995, 0.023221057617050265, 0.6428142953077048, 0.3522270111275095, 0.9860622519662421, 0.013185168603178022, 0.9966076134994352, 0.9987466568373959, 0.9265514697122992, 0.0714258092283571, 0.9965357208184762, 0.9866493592044807, 0.9966666550756005, 0.7691654987903813, 0.2244912355536492, 0.006194334758378522, 0.997896710585459, 0.98085354609718, 0.995232484387332, 0.9972712235461252, 0.9803143144465196, 0.9981882962563443, 0.9963600960025643, 0.8898035281604083, 0.07884335059649188, 0.025176868257703287, 0.00596294248208762, 0.22091804910670784, 0.7770889271209636, 0.9976019368318914, 0.967238167281937, 0.0313152827005118, 0.0013468938795919052, 0.9994240548439598, 0.9996964851260512, 0.9952371493004605, 0.042270081776984145, 0.9561784015759173, 0.9933510635404271, 0.9976087144767465, 0.2718143990487433, 0.5377517300099462, 0.1880661788012927, 0.34869337518169924, 0.10224269644277396, 0.5486007368832424, 0.5169979088773631, 0.22160100137111396, 0.00341252745133573, 0.25210046546742704, 0.005758640074129045, 0.8484115114562365, 0.9816391650863552, 0.9836086476096311, 0.9789092478299675, 0.3236120209888171, 0.0011057358348137258, 0.6752360164595819, 0.0444958789661366, 0.0022349528247831165, 0.9531057910052364], \"Term\": [\"_\", \"absurd\", \"acceleration\", \"accept\", \"accept\", \"access\", \"access_digex\", \"accident\", \"acquisition\", \"added_forwarde\", \"admin\", \"administration\", \"advance\", \"age\", \"age\", \"age\", \"agent\", \"aim\", \"aim\", \"aim\", \"aim\", \"algorithm\", \"already\", \"also\", \"also\", \"also\", \"also\", \"amazing\", \"ammunition\", \"amp\", \"animal\", \"appear\", \"appear\", \"apple\", \"application\", \"appreciate\", \"appressian\", \"approve\", \"apr\", \"arab\", \"area\", \"area\", \"argument\", \"armenian\", \"army\", \"article\", \"article\", \"article\", \"assign\", \"assumption\", \"assure\", \"astronomy\", \"atheism\", \"atheist\", \"attack\", \"attack\", \"attack\", \"auto\", \"automobile\", \"average\", \"away\", \"ax\", \"back\", \"back\", \"bad\", \"band\", \"baseball\", \"battery\", \"battle\", \"be\", \"bed\", \"belief\", \"believe\", \"believe\", \"big\", \"big\", \"bike\", \"bio\", \"bit\", \"bit\", \"bit\", \"block\", \"block\", \"board\", \"body\", \"body\", \"bolt\", \"bomb\", \"book\", \"book\", \"boost\", \"box\", \"brain\", \"brave\", \"brick\", \"brief\", \"british\", \"btw\", \"buffalo\", \"buffer\", \"bug\", \"bumper\", \"burn\", \"burn\", \"bury\", \"bus\", \"buy\", \"buy\", \"buy\", \"cage\", \"call\", \"call\", \"call\", \"call\", \"campaign\", \"canon_bj\", \"cap\", \"capacity\", \"capture\", \"capture\", \"car\", \"card\", \"carry\", \"carry\", \"carry\", \"carry\", \"carry\", \"carry\", \"carry\", \"case\", \"case\", \"case\", \"cause\", \"cause\", \"cd\", \"cd_rom\", \"certainly\", \"character\", \"characteristic\", \"chase\", \"checking\", \"child\", \"child\", \"child\", \"child\", \"chip\", \"chip\", \"christian\", \"christianity\", \"church\", \"citizen\", \"civilian\", \"claim\", \"claim\", \"clearly\", \"clipper\", \"clipper_chip\", \"closet\", \"club\", \"code\", \"code\", \"code\", \"color\", \"com\", \"come\", \"community\", \"community\", \"compare\", \"compile\", \"compiler\", \"complete\", \"compression\", \"computer\", \"computer\", \"conclusion\", \"condemnation\", \"condition\", \"consideration\", \"contain\", \"contain\", \"context\", \"controller\", \"convert\", \"cooling_tower\", \"cooperation\", \"cop\", \"copy\", \"corner\", \"cost\", \"cost\", \"cost\", \"cost\", \"country\", \"country\", \"country\", \"court\", \"cover\", \"cover\", \"cpu\", \"crash\", \"crime\", \"cross\", \"crypto\", \"current\", \"curve\", \"custom\", \"cylinder\", \"d\", \"datum\", \"datum\", \"datum\", \"dealer\", \"death\", \"death\", \"decent\", \"declaration\", \"defense\", \"deficit\", \"deny\", \"deny\", \"deny\", \"dept\", \"destroy\", \"destroy\", \"destroy\", \"detail\", \"device\", \"devil\", \"die\", \"diet\", \"digital\", \"directory\", \"dirty\", \"disarm\", \"discussion\", \"discussion\", \"disk\", \"display\", \"distant\", \"distribution_world\", \"distribution_world\", \"divide\", \"division\", \"division\", \"do\", \"do\", \"dock\", \"doctor\", \"documentary\", \"dog\", \"draft\", \"drive\", \"drive\", \"driver\", \"driver\", \"drug\", \"dumb\", \"dynamic\", \"earth\", \"earth\", \"eat\", \"edit\", \"effect\", \"effective\", \"email\", \"email\", \"email\", \"encounter\", \"encryption\", \"enemy\", \"energy\", \"energy\", \"engineering\", \"engineering\", \"enough\", \"enough\", \"entry\", \"equal\", \"eric_bosco\", \"error\", \"error\", \"error\", \"escape\", \"essentially\", \"even\", \"even\", \"ever\", \"evidence\", \"excuse\", \"exist\", \"exist\", \"exist\", \"expansion\", \"expensive\", \"experiment\", \"explain\", \"explain\", \"export\", \"extension\", \"external\", \"fact\", \"fact\", \"fact\", \"factor\", \"factory\", \"faith\", \"family\", \"fan\", \"faq\", \"faq\", \"far\", \"far\", \"fascist\", \"fast\", \"fast\", \"fast\", \"fax\", \"feature\", \"federal\", \"feel\", \"field\", \"fight\", \"fight\", \"file\", \"film\", \"find\", \"find\", \"find\", \"find\", \"fire\", \"fire\", \"firearm\", \"first\", \"first\", \"first\", \"fish\", \"flag\", \"flight\", \"follow\", \"follow\", \"follow\", \"force\", \"force\", \"force\", \"force\", \"force\", \"format\", \"forum\", \"free\", \"free\", \"frequently_aske\", \"front\", \"front\", \"front\", \"front\", \"fuel\", \"function\", \"function\", \"function\", \"game\", \"garage\", \"gas\", \"gas\", \"gear\", \"general\", \"genocide\", \"get\", \"get\", \"get\", \"giant\", \"girl\", \"give\", \"give\", \"go\", \"goal\", \"goalie\", \"god\", \"good\", \"good\", \"good\", \"good_luck\", \"government\", \"government\", \"graphic\", \"graphic\", \"greek\", \"greek\", \"ground\", \"group\", \"group\", \"guilty\", \"gun\", \"guy\", \"happen\", \"hard\", \"hardware\", \"hardware\", \"hardware\", \"hate\", \"hate\", \"headache\", \"hell\", \"helmet\", \"help\", \"help\", \"help\", \"help\", \"herein\", \"high\", \"high\", \"high\", \"high\", \"high\", \"high\", \"highway\", \"historical\", \"historical\", \"historically\", \"history\", \"history\", \"history\", \"history\", \"history\", \"hit\", \"hit\", \"hole\", \"holy\", \"homeland\", \"homosexual\", \"honest\", \"hope\", \"host\", \"hot\", \"however\", \"however\", \"however\", \"however\", \"human\", \"human\", \"ice\", \"ide\", \"image\", \"imagination\", \"imaging\", \"imho\", \"immediate\", \"impedance\", \"implementation\", \"imply\", \"improve\", \"improvement\", \"inability\", \"include\", \"include\", \"include\", \"increase\", \"increase\", \"increase\", \"increase\", \"info\", \"info\", \"information\", \"information\", \"information\", \"information\", \"inhabitant\", \"input\", \"insist\", \"instal\", \"instal\", \"instrument\", \"insurance\", \"int\", \"intention\", \"interested\", \"interested\", \"interface\", \"interpretation\", \"invader\", \"invalid\", \"invasion\", \"israeli\", \"issue\", \"issue\", \"issue\", \"ist\", \"japanese\", \"jewish\", \"jewish\", \"jim_frost\", \"key\", \"keyword\", \"kid\", \"kill\", \"kill\", \"kill\", \"kill\", \"kill\", \"kind\", \"kinda\", \"know\", \"know\", \"know\", \"land\", \"large\", \"last\", \"last\", \"last\", \"launch\", \"law\", \"law\", \"law_enforcement\", \"leadership\", \"legal\", \"let\", \"level\", \"liberty\", \"lie\", \"lie\", \"lie\", \"life\", \"life\", \"lift\", \"light\", \"light\", \"like\", \"like\", \"line\", \"line\", \"link\", \"list\", \"list\", \"list\", \"listen\", \"little\", \"little\", \"log\", \"longer_exist\", \"look\", \"look\", \"look\", \"look\", \"lose\", \"lose\", \"lunar\", \"m\", \"m\", \"m\", \"machine\", \"mail\", \"mail\", \"make\", \"make\", \"man\", \"man\", \"man\", \"manual\", \"many\", \"many\", \"many\", \"map\", \"mar\", \"market\", \"mask\", \"massacre\", \"master\", \"material\", \"maybe\", \"mean\", \"mean\", \"mean\", \"measurement\", \"melkonian\", \"memory\", \"message\", \"message\", \"message\", \"method\", \"might_serve\", \"mile\", \"mile\", \"mileage\", \"military\", \"military\", \"military\", \"minority\", \"mission\", \"mode\", \"model\", \"modem\", \"module\", \"module\", \"money\", \"monitor\", \"moon\", \"moral\", \"morality\", \"motherboard\", \"motif\", \"motto\", \"mount\", \"mountain_passe\", \"mouse\", \"mph\", \"much\", \"much\", \"much\", \"multiple\", \"murder\", \"murder\", \"murder\", \"name\", \"name\", \"name\", \"name\", \"narrow\", \"national\", \"national\", \"nature\", \"nazi\", \"neat\", \"need\", \"need\", \"need\", \"need\", \"need\", \"never\", \"new\", \"new\", \"new\", \"new\", \"new\", \"nicely\", \"nntp_poste\", \"noise\", \"normal\", \"note\", \"note\", \"notice\", \"number\", \"number\", \"number\", \"number\", \"object\", \"object\", \"object\", \"objective\", \"objective\", \"obviously\", \"obviously\", \"occupation\", \"occupy\", \"officer\", \"openwindow\", \"operator\", \"opinions_expressed\", \"orbit\", \"order\", \"order\", \"order\", \"order\", \"organization\", \"organization\", \"original_sender\", \"originator\", \"ozone\", \"package\", \"page\", \"painless\", \"paint\", \"parameter\", \"parity\", \"part\", \"part\", \"part\", \"part\", \"patient\", \"pc\", \"pc_magazine\", \"peace\", \"peace\", \"pen\", \"people\", \"people\", \"people\", \"people\", \"person\", \"person\", \"person\", \"person\", \"pgp\", \"phase\", \"phone\", \"physical\", \"physics\", \"pick\", \"pickup\", \"pin\", \"pinch\", \"pistol\", \"plane\", \"planet\", \"planet\", \"planetary\", \"platform\", \"play\", \"player\", \"plot\", \"point\", \"point\", \"point\", \"point\", \"pointer\", \"police\", \"police\", \"policy\", \"policy\", \"political\", \"political\", \"political_atheist\", \"poll\", \"population\", \"population\", \"population\", \"port\", \"post\", \"post\", \"post\", \"power\", \"power\", \"precisely\", \"predict\", \"prescription\", \"price\", \"price\", \"principle\", \"printer\", \"privacy\", \"private\", \"problem\", \"problem\", \"problem\", \"proceed\", \"proceed\", \"process\", \"processor\", \"produce\", \"program\", \"program\", \"program\", \"prohibit\", \"project\", \"project\", \"project\", \"proof\", \"properly\", \"properly\", \"proposal\", \"protect\", \"protection\", \"prove\", \"prove\", \"prove\", \"provide\", \"provide\", \"provide\", \"public\", \"public\", \"publication\", \"publish\", \"pull\", \"pull\", \"put\", \"question\", \"question\", \"question\", \"question\", \"quick\", \"race\", \"race\", \"radiation\", \"ram\", \"rate\", \"rate\", \"rate\", \"rational\", \"re\", \"read\", \"read\", \"read\", \"really\", \"rear\", \"reason\", \"reason\", \"reason\", \"reboot\", \"receive\", \"recieve\", \"record\", \"record\", \"red\", \"redesign\", \"reference\", \"refresh\", \"register\", \"register\", \"registration\", \"reject\", \"reliable\", \"religion\", \"religious\", \"remainder\", \"remember\", \"remind\", \"reply\", \"reply\", \"reply\", \"require\", \"require\", \"research\", \"research\", \"reserve_university\", \"resist\", \"responsible\", \"restrict\", \"restriction\", \"result\", \"resurrection\", \"retire\", \"retract\", \"return\", \"return\", \"rev\", \"revelation\", \"revolver\", \"right\", \"right\", \"risk\", \"river\", \"road\", \"road\", \"rocket\", \"role\", \"room\", \"route\", \"row\", \"rs\", \"run\", \"run\", \"run\", \"runner\", \"rutger\", \"s\", \"safety\", \"safety\", \"safety\", \"sale\", \"satellite\", \"saturn\", \"say\", \"say\", \"scan\", \"scan\", \"scheme\", \"science\", \"science\", \"science\", \"scientific\", \"scientific\", \"score\", \"screen\", \"scripture\", \"scsi\", \"season\", \"second\", \"second\", \"second\", \"secret\", \"section\", \"secure\", \"security\", \"security\", \"see\", \"see\", \"seem\", \"seem\", \"segment\", \"self\", \"self\", \"sell\", \"send\", \"send\", \"send\", \"sense\", \"sense\", \"serdar_argic\", \"serial\", \"serious\", \"serious\", \"server\", \"session\", \"set\", \"set\", \"set\", \"shaft\", \"shareware\", \"sho\", \"shoot\", \"shoot\", \"shoot\", \"shuttle\", \"sight\", \"signal\", \"similar\", \"single_turkish\", \"site\", \"site\", \"sky\", \"slaughter\", \"slight\", \"small\", \"social\", \"software\", \"solar\", \"soldier\", \"soldier\", \"solution\", \"somehow\", \"soul\", \"soul_sahak\", \"source\", \"source\", \"source\", \"space\", \"space_dig\", \"space_shuttle\", \"space_station\", \"spacecraft\", \"speaker\", \"specific\", \"specification\", \"spectrum\", \"speed\", \"speed\", \"spot\", \"state\", \"state\", \"state\", \"state\", \"state\", \"statement\", \"statement\", \"statement\", \"static\", \"still\", \"story\", \"stream\", \"strip\", \"structure\", \"structure\", \"stuck\", \"sue\", \"suggest\", \"suitable\", \"sun\", \"sun\", \"sure\", \"sure\", \"sure\", \"survivor\", \"system\", \"system\", \"system\", \"system\", \"system\", \"system\", \"take\", \"take\", \"talk\", \"tank\", \"tap\", \"tape\", \"tax\", \"te\", \"team\", \"technology\", \"technology\", \"technology\", \"technology\", \"technology\", \"teenager\", \"tell\", \"telnet\", \"territorial\", \"territory\", \"terrorism\", \"test\", \"test\", \"test\", \"thank\", \"thank\", \"theodore_kaldi\", \"therefore\", \"therefore\", \"thing\", \"thing\", \"think\", \"think\", \"third\", \"tie\", \"tight\", \"tim_clock\", \"time\", \"time\", \"tip\", \"tire\", \"today\", \"today\", \"today\", \"total\", \"trace\", \"trade\", \"tradition\", \"trial\", \"triangle\", \"trigger\", \"troop\", \"troop\", \"truck\", \"true\", \"true\", \"true\", \"true\", \"trust\", \"truth\", \"try\", \"try\", \"try\", \"turk\", \"turkey\", \"turkish\", \"turn\", \"united_state\", \"universe\", \"university\", \"university\", \"unix\", \"unlikely\", \"unusual\", \"use\", \"use\", \"use\", \"user\", \"user\", \"usually\", \"ve\", \"ve\", \"ve\", \"vehicle\", \"vehicle\", \"version\", \"version\", \"version_pl\", \"video\", \"village\", \"village\", \"volt\", \"volume\", \"vote\", \"want\", \"want\", \"want\", \"war\", \"warning\", \"warrant\", \"warranty\", \"wash\", \"watch\", \"water\", \"way\", \"way\", \"way\", \"way\", \"weapon\", \"weapon\", \"weight\", \"well\", \"well\", \"well\", \"win\", \"window\", \"wing\", \"wire\", \"wire\", \"wiring\", \"withdraw\", \"woman\", \"woman\", \"woman\", \"word\", \"word\", \"word\", \"work\", \"work\", \"work\", \"work\", \"work\", \"workshop\", \"worse\", \"worthless\", \"worthwhile\", \"write\", \"write\", \"write\", \"year\", \"year\", \"year\"]}, \"R\": 30, \"lambda.step\": 0.01, \"plot.opts\": {\"xlab\": \"PC1\", \"ylab\": \"PC2\"}, \"topic.order\": [6, 7, 2, 3, 14, 9, 17, 5, 13, 10, 4, 16, 19, 18, 20, 8, 1, 12, 11, 15]};\n",
       "\n",
       "function LDAvis_load_lib(url, callback){\n",
       "  var s = document.createElement('script');\n",
       "  s.src = url;\n",
       "  s.async = true;\n",
       "  s.onreadystatechange = s.onload = callback;\n",
       "  s.onerror = function(){console.warn(\"failed to load library \" + url);};\n",
       "  document.getElementsByTagName(\"head\")[0].appendChild(s);\n",
       "}\n",
       "\n",
       "if(typeof(LDAvis) !== \"undefined\"){\n",
       "   // already loaded: just create the visualization\n",
       "   !function(LDAvis){\n",
       "       new LDAvis(\"#\" + \"ldavis_el2647352474011688964002605\", ldavis_el2647352474011688964002605_data);\n",
       "   }(LDAvis);\n",
       "}else if(typeof define === \"function\" && define.amd){\n",
       "   // require.js is available: use it to load d3/LDAvis\n",
       "   require.config({paths: {d3: \"https://d3js.org/d3.v5\"}});\n",
       "   require([\"d3\"], function(d3){\n",
       "      window.d3 = d3;\n",
       "      LDAvis_load_lib(\"https://cdn.jsdelivr.net/gh/bmabey/pyLDAvis@3.4.0/pyLDAvis/js/ldavis.v3.0.0.js\", function(){\n",
       "        new LDAvis(\"#\" + \"ldavis_el2647352474011688964002605\", ldavis_el2647352474011688964002605_data);\n",
       "      });\n",
       "    });\n",
       "}else{\n",
       "    // require.js not available: dynamically load d3 & LDAvis\n",
       "    LDAvis_load_lib(\"https://d3js.org/d3.v5.js\", function(){\n",
       "         LDAvis_load_lib(\"https://cdn.jsdelivr.net/gh/bmabey/pyLDAvis@3.4.0/pyLDAvis/js/ldavis.v3.0.0.js\", function(){\n",
       "                 new LDAvis(\"#\" + \"ldavis_el2647352474011688964002605\", ldavis_el2647352474011688964002605_data);\n",
       "            })\n",
       "         });\n",
       "}\n",
       "</script>"
      ],
      "text/plain": [
       "PreparedData(topic_coordinates=              x         y  topics  cluster       Freq\n",
       "topic                                                \n",
       "5      0.342252 -0.106454       1        1  30.783463\n",
       "6      0.311746 -0.001709       2        1  21.326420\n",
       "1      0.241213  0.180647       3        1  11.628091\n",
       "2      0.195471  0.258838       4        1   6.886712\n",
       "13     0.231087 -0.274975       5        1   6.265773\n",
       "8     -0.011855  0.039394       6        1   5.267748\n",
       "16     0.104266  0.062353       7        1   4.546419\n",
       "4      0.089287 -0.186895       8        1   3.314522\n",
       "12    -0.030403  0.115633       9        1   1.449369\n",
       "9     -0.058847  0.058309      10        1   1.424186\n",
       "3     -0.044292  0.065560      11        1   1.410530\n",
       "15    -0.086739  0.055110      12        1   1.298107\n",
       "18    -0.067323 -0.099475      13        1   1.171807\n",
       "17    -0.129494 -0.007634      14        1   0.914520\n",
       "19    -0.112696 -0.089119      15        1   0.882579\n",
       "7     -0.170728 -0.007109      16        1   0.540699\n",
       "0     -0.178930 -0.012787      17        1   0.441813\n",
       "11    -0.192644 -0.014081      18        1   0.275611\n",
       "10    -0.213538 -0.017498      19        1   0.113959\n",
       "14    -0.217834 -0.018107      20        1   0.057674, topic_info=               Term          Freq         Total Category  logprob  loglift\n",
       "4263             ax  51876.000000  51876.000000  Default  30.0000  30.0000\n",
       "19             line  15424.000000  15424.000000  Default  29.0000  29.0000\n",
       "142    organization   9980.000000   9980.000000  Default  28.0000  28.0000\n",
       "206           write  13565.000000  13565.000000  Default  27.0000  27.0000\n",
       "41             year   4921.000000   4921.000000  Default  26.0000  26.0000\n",
       "...             ...           ...           ...      ...      ...      ...\n",
       "7059     presumably      0.013487      1.258331  Topic20 -10.9020   2.9223\n",
       "5481          valid      0.013487      1.258412  Topic20 -10.9019   2.9223\n",
       "2021  serial_number      0.013487      1.258335  Topic20 -10.9020   2.9223\n",
       "8054       sequence      0.013487      1.258345  Topic20 -10.9020   2.9223\n",
       "4778        examine      0.013487      1.258365  Topic20 -10.9020   2.9223\n",
       "\n",
       "[893 rows x 6 columns], token_table=      Topic      Freq          Term\n",
       "term                               \n",
       "946       6  0.999340             _\n",
       "356      14  0.973455        absurd\n",
       "42        6  0.983752  acceleration\n",
       "1336      1  0.317862        accept\n",
       "1336      5  0.680694        accept\n",
       "...     ...       ...           ...\n",
       "206       2  0.001106         write\n",
       "206       3  0.675236         write\n",
       "41        1  0.044496          year\n",
       "41        2  0.002235          year\n",
       "41        7  0.953106          year\n",
       "\n",
       "[1117 rows x 3 columns], R=30, lambda_step=0.01, plot_opts={'xlab': 'PC1', 'ylab': 'PC2'}, topic_order=[6, 7, 2, 3, 14, 9, 17, 5, 13, 10, 4, 16, 19, 18, 20, 8, 1, 12, 11, 15])"
      ]
     },
     "execution_count": 44,
     "metadata": {},
     "output_type": "execute_result"
    }
   ],
   "source": [
    "# Visualize the topics\n",
    "pyLDAvis.enable_notebook()\n",
    "vis = pyLDAvis.gensim.prepare(lda_model, corpus, id2word)\n",
    "vis"
   ]
  },
  {
   "cell_type": "code",
   "execution_count": 75,
   "id": "9ca441ef-c453-4421-9526-19aa4c80aa4b",
   "metadata": {},
   "outputs": [],
   "source": [
    "def compute_coherence_values(dictionary, corpus, texts, limit, start=2, step=3):\n",
    "    \"\"\"\n",
    "    Compute c_v coherence for various number of topics\n",
    "\n",
    "    Parameters:\n",
    "    ----------\n",
    "    dictionary : Gensim dictionary\n",
    "    corpus : Gensim corpus\n",
    "    texts : List of input texts\n",
    "    limit : Max num of topics\n",
    "\n",
    "    Returns:\n",
    "    -------\n",
    "    model_list : List of LDA topic models\n",
    "    coherence_values : Coherence values corresponding to the LDA model with respective number of topics\n",
    "    \"\"\"\n",
    "    coherence_values = []\n",
    "    model_list = []\n",
    "    for num_topics in range(start, limit, step):\n",
    "        model = gensim.models.wrappers.LdaMallet(mallet_path, corpus=corpus, num_topics=num_topics, id2word=id2word)\n",
    "        model_list.append(model)\n",
    "        coherencemodel = CoherenceModel(model=model, texts=texts, dictionary=dictionary, coherence='c_v')\n",
    "        coherence_values.append(coherencemodel.get_coherence())\n",
    "\n",
    "    return model_list, coherence_values"
   ]
  },
  {
   "cell_type": "code",
   "execution_count": 79,
   "id": "a86638ea-3e92-438c-b4f5-a35592e23f5b",
   "metadata": {},
   "outputs": [],
   "source": [
    "# the following optimal version cannot be run"
   ]
  },
  {
   "cell_type": "code",
   "execution_count": null,
   "id": "df0e2d4c-3ee8-4537-bd8c-2c4c001733ad",
   "metadata": {},
   "outputs": [],
   "source": []
  }
 ],
 "metadata": {
  "kernelspec": {
   "display_name": "Python 3 (ipykernel)",
   "language": "python",
   "name": "python3"
  },
  "language_info": {
   "codemirror_mode": {
    "name": "ipython",
    "version": 3
   },
   "file_extension": ".py",
   "mimetype": "text/x-python",
   "name": "python",
   "nbconvert_exporter": "python",
   "pygments_lexer": "ipython3",
   "version": "3.12.4"
  }
 },
 "nbformat": 4,
 "nbformat_minor": 5
}
